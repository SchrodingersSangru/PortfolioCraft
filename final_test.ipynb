{
 "cells": [
  {
   "cell_type": "code",
   "execution_count": 3,
   "id": "f6d12cb1",
   "metadata": {},
   "outputs": [
    {
     "name": "stdout",
     "output_type": "stream",
     "text": [
      "Name: portfoliocraft\n",
      "Version: 0.1.2\n",
      "Summary: Comprehensive package for Formulating Portfolio Optimization function\n",
      "Home-page: \n",
      "Author: \n",
      "Author-email: Sangram Deshpande <deshpande.sangram156@gmail.com>\n",
      "License-Expression: MIT\n",
      "Location: /home/sangram/anaconda3/envs/qiskit_env/lib/python3.10/site-packages\n",
      "Requires: docplex, numpy, qiskit_optimization\n",
      "Required-by: \n"
     ]
    }
   ],
   "source": [
    "!pip show portfoliocraft"
   ]
  },
  {
   "cell_type": "code",
   "execution_count": 6,
   "id": "3df27055",
   "metadata": {},
   "outputs": [],
   "source": [
    "import pandas as pd\n",
    "import numpy as np\n",
    "import os\n",
    "import yfinance as yf\n",
    "import portfoliocraft\n",
    "\n",
    "# from portfoliocraft import Asset_Selection_Formulation #import PortfolioFormulation\n",
    "# from portfoliocraft.Asset_Selection_Formulation import PortfolioFormulation"
   ]
  },
  {
   "cell_type": "code",
   "execution_count": 7,
   "id": "7f42b8e3",
   "metadata": {},
   "outputs": [
    {
     "name": "stdout",
     "output_type": "stream",
     "text": [
      "Import successful!\n"
     ]
    }
   ],
   "source": [
    "from portfoliocraft import PortfolioFormulation\n",
    "print(\"Import successful!\")\n"
   ]
  },
  {
   "cell_type": "code",
   "execution_count": 8,
   "id": "a737a379",
   "metadata": {},
   "outputs": [],
   "source": [
    "from portfoliocraft.Asset_Selection_Formulation import PortfolioFormulation"
   ]
  },
  {
   "cell_type": "code",
   "execution_count": 9,
   "id": "93e01e6c",
   "metadata": {},
   "outputs": [
    {
     "name": "stdout",
     "output_type": "stream",
     "text": [
      "YF.download() has changed argument auto_adjust default to True\n"
     ]
    },
    {
     "name": "stderr",
     "output_type": "stream",
     "text": [
      "[*********************100%***********************]  10 of 10 completed\n"
     ]
    }
   ],
   "source": [
    "# assets = [\"AAPL\", \"GS\", \"JPM\", \"MSFT\", \"MCD\", \"WMT\"]\n",
    "#DOW30 DATASET\n",
    "assets = ['AAPL','AXP','BA','CAT', 'CSCO','CVX','DD','DIS', 'GE','GS' ] #,'HD', 'IBM' ] #, 'INTC', 'JNJ', 'JPM','KO', 'MCD','MMM','MRK','MSFT','NKE','PFE', 'PG', 'T', 'TRV', 'UNH', 'V', 'VZ','WMT', 'XOM']\n",
    "len(assets)\n",
    "\n",
    "# Using data from yahoo finance\n",
    "# use the name listed for particular company that you wish to add\n",
    "\n",
    "start_date = \"2016-01-01\"\n",
    "end_date = \"2022-12-31\"\n",
    "\n",
    "stocks_data_csv= yf.download(assets, start = start_date, end = end_date)['Close']\n",
    "stocks_data_csv.to_csv(\"Stocks_data.csv\")"
   ]
  },
  {
   "cell_type": "code",
   "execution_count": 10,
   "id": "d7dbab29",
   "metadata": {},
   "outputs": [],
   "source": [
    "read_stocks_data = pd.read_csv(\"Stocks_data.csv\", index_col=False)\n",
    "stocks_data = read_stocks_data.drop(['Date'], axis=1)"
   ]
  },
  {
   "cell_type": "code",
   "execution_count": 11,
   "id": "6e300b00",
   "metadata": {},
   "outputs": [
    {
     "name": "stdout",
     "output_type": "stream",
     "text": [
      "[ 0.24102517  0.12713873  0.05914017  0.20796765  0.11488933  0.14381103\n",
      "  0.01820192 -0.0159969  -0.13280863  0.11321669]\n",
      "[[0.09239518 0.04507576 0.05772792 0.03854436 0.04638292 0.03518257\n",
      "  0.0434509  0.04064523 0.04086922 0.04703455]\n",
      " [0.04507576 0.10978964 0.0933172  0.05881847 0.04483872 0.0641955\n",
      "  0.06415339 0.05842312 0.07002762 0.0725485 ]\n",
      " [0.05772792 0.0933172  0.19863166 0.07194938 0.04903667 0.0775178\n",
      "  0.07443718 0.0676322  0.09535681 0.0791848 ]\n",
      " [0.03854436 0.05881847 0.07194938 0.09644273 0.0413823  0.05861904\n",
      "  0.06184401 0.04319641 0.06173731 0.06000674]\n",
      " [0.04638292 0.04483872 0.04903667 0.0413823  0.07183261 0.03721963\n",
      "  0.04196933 0.03889447 0.04135108 0.04278929]\n",
      " [0.03518257 0.0641955  0.0775178  0.05861904 0.03721963 0.10278103\n",
      "  0.05635202 0.0430548  0.06250262 0.05819362]\n",
      " [0.0434509  0.06415339 0.07443718 0.06184401 0.04196933 0.05635202\n",
      "  0.10228324 0.04487755 0.06136576 0.06080262]\n",
      " [0.04064523 0.05842312 0.0676322  0.04319641 0.03889447 0.0430548\n",
      "  0.04487755 0.08359891 0.05052663 0.05102362]\n",
      " [0.04086922 0.07002762 0.09535681 0.06173731 0.04135108 0.06250262\n",
      "  0.06136576 0.05052663 0.14629122 0.06495349]\n",
      " [0.04703455 0.0725485  0.0791848  0.06000674 0.04278929 0.05819362\n",
      "  0.06080262 0.05102362 0.06495349 0.09388556]]\n"
     ]
    }
   ],
   "source": [
    "log_return = np.log(stocks_data/stocks_data.shift(1))\n",
    "\n",
    "trading_days = 252\n",
    "\n",
    "\n",
    "num_assets = len(assets)\n",
    "mu = log_return.mean()*trading_days\n",
    "sigma = log_return.cov()*trading_days\n",
    "sigma = np.array(sigma)\n",
    "mu = np.array(mu)\n",
    "print(mu)\n",
    "print(sigma)"
   ]
  },
  {
   "cell_type": "code",
   "execution_count": 12,
   "id": "21418a1a",
   "metadata": {},
   "outputs": [],
   "source": [
    "q =0.5\n",
    "budget = num_assets//2 "
   ]
  },
  {
   "cell_type": "markdown",
   "id": "f82fddf7",
   "metadata": {},
   "source": [
    "## run below code to get the quadratic program of portfolio optimization formulation"
   ]
  },
  {
   "cell_type": "code",
   "execution_count": 13,
   "id": "8788aa25",
   "metadata": {},
   "outputs": [
    {
     "name": "stdout",
     "output_type": "stream",
     "text": [
      "minimize 0.04619759026851542*x_0^2 + 0.045075761790851654*x_0*x_1 + 0.057727916973704434*x_0*x_2 + 0.038544360700055534*x_0*x_3 + 0.0463829150308851*x_0*x_4 + 0.03518256702703675*x_0*x_5 + 0.043450899174857845*x_0*x_6 + 0.04064522607440112*x_0*x_7 + 0.04086922342488442*x_0*x_8 + 0.047034547893215393*x_0*x_9 + 0.05489481826165873*x_1^2 + 0.09331719990836033*x_1*x_2 + 0.05881846962298584*x_1*x_3 + 0.04483872277852961*x_1*x_4 + 0.0641955024680495*x_1*x_5 + 0.06415339486170989*x_1*x_6 + 0.05842311665295013*x_1*x_7 + 0.07002761957765566*x_1*x_8 + 0.0725484967105541*x_1*x_9 + 0.09931582820707467*x_2^2 + 0.0719493753668014*x_2*x_3 + 0.049036671519767774*x_2*x_4 + 0.07751779696741981*x_2*x_5 + 0.07443717690113692*x_2*x_6 + 0.06763219741268219*x_2*x_7 + 0.09535680851875702*x_2*x_8 + 0.07918479773302148*x_2*x_9 + 0.048221363267411874*x_3^2 + 0.04138229826806659*x_3*x_4 + 0.058619044179720234*x_3*x_5 + 0.0618440140670998*x_3*x_6 + 0.04319641488274662*x_3*x_7 + 0.0617373131566938*x_3*x_8 + 0.06000673817162256*x_3*x_9 + 0.035916303032315425*x_4^2 + 0.037219632827557234*x_4*x_5 + 0.04196932506270263*x_4*x_6 + 0.03889447100827211*x_4*x_7 + 0.041351083418836684*x_4*x_8 + 0.04278929470332175*x_4*x_9 + 0.051390515123847264*x_5^2 + 0.056352017865557116*x_5*x_6 + 0.04305479570943002*x_5*x_7 + 0.06250261705868629*x_5*x_8 + 0.05819362267684718*x_5*x_9 + 0.05114162231481221*x_6^2 + 0.04487754889764612*x_6*x_7 + 0.06136576237431672*x_6*x_8 + 0.06080262455172203*x_6*x_9 + 0.041799455238345135*x_7^2 + 0.050526626625399036*x_7*x_8 + 0.05102362222827749*x_7*x_9 + 0.07314561094283313*x_8^2 + 0.06495349278373234*x_8*x_9 + 0.04694277768940953*x_9^2 - 0.24102516825351505*x_0 - 0.1271387347868626*x_1 - 0.059140168855576616*x_2 - 0.20796765101246115*x_3 - 0.11488932586534654*x_4 - 0.1438110285680129*x_5 - 0.01820192220970034*x_6 + 0.015996901154403196*x_7 + 0.13280863447240712*x_8 - 0.11321669113122255*x_9 (10 variables, 1 constraints, 'Portfolio Optimization')\n"
     ]
    }
   ],
   "source": [
    "# Create and solve model\n",
    "po = PortfolioFormulation(mu, sigma, q, budget)\n",
    "model = po.build_model()\n",
    "print(model)"
   ]
  },
  {
   "cell_type": "code",
   "execution_count": null,
   "id": "b8705c66",
   "metadata": {},
   "outputs": [],
   "source": []
  }
 ],
 "metadata": {
  "kernelspec": {
   "display_name": "qiskit_env",
   "language": "python",
   "name": "python3"
  },
  "language_info": {
   "codemirror_mode": {
    "name": "ipython",
    "version": 3
   },
   "file_extension": ".py",
   "mimetype": "text/x-python",
   "name": "python",
   "nbconvert_exporter": "python",
   "pygments_lexer": "ipython3",
   "version": "3.10.16"
  }
 },
 "nbformat": 4,
 "nbformat_minor": 5
}
