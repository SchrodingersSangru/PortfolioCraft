{
  "nbformat": 4,
  "nbformat_minor": 0,
  "metadata": {
    "colab": {
      "provenance": []
    },
    "kernelspec": {
      "name": "python3",
      "display_name": "Python 3"
    },
    "language_info": {
      "name": "python"
    }
  },
  "cells": [
    {
      "cell_type": "code",
      "execution_count": 1,
      "metadata": {
        "colab": {
          "base_uri": "https://localhost:8080/"
        },
        "id": "ZXxiP7M02CdX",
        "outputId": "ee588619-1b10-429c-8519-e3d7800a70bd"
      },
      "outputs": [
        {
          "output_type": "stream",
          "name": "stdout",
          "text": [
            "Collecting dwave-neal\n",
            "  Downloading dwave_neal-0.6.0-py3-none-any.whl.metadata (3.0 kB)\n",
            "Collecting dwave-samplers<2.0.0,>=1.0.0 (from dwave-neal)\n",
            "  Downloading dwave_samplers-1.5.0-cp311-cp311-manylinux_2_17_x86_64.manylinux2014_x86_64.whl.metadata (11 kB)\n",
            "Requirement already satisfied: numpy<3.0.0,>=1.19.0 in /usr/local/lib/python3.11/dist-packages (from dwave-samplers<2.0.0,>=1.0.0->dwave-neal) (2.0.2)\n",
            "Collecting dimod<0.13.0,>=0.12.13 (from dwave-samplers<2.0.0,>=1.0.0->dwave-neal)\n",
            "  Downloading dimod-0.12.20-cp311-cp311-manylinux_2_17_x86_64.manylinux2014_x86_64.whl.metadata (4.0 kB)\n",
            "Requirement already satisfied: networkx>=3.0 in /usr/local/lib/python3.11/dist-packages (from dwave-samplers<2.0.0,>=1.0.0->dwave-neal) (3.4.2)\n",
            "Downloading dwave_neal-0.6.0-py3-none-any.whl (8.7 kB)\n",
            "Downloading dwave_samplers-1.5.0-cp311-cp311-manylinux_2_17_x86_64.manylinux2014_x86_64.whl (9.0 MB)\n",
            "\u001b[2K   \u001b[90m━━━━━━━━━━━━━━━━━━━━━━━━━━━━━━━━━━━━━━━━\u001b[0m \u001b[32m9.0/9.0 MB\u001b[0m \u001b[31m24.5 MB/s\u001b[0m eta \u001b[36m0:00:00\u001b[0m\n",
            "\u001b[?25hDownloading dimod-0.12.20-cp311-cp311-manylinux_2_17_x86_64.manylinux2014_x86_64.whl (9.1 MB)\n",
            "\u001b[2K   \u001b[90m━━━━━━━━━━━━━━━━━━━━━━━━━━━━━━━━━━━━━━━━\u001b[0m \u001b[32m9.1/9.1 MB\u001b[0m \u001b[31m33.2 MB/s\u001b[0m eta \u001b[36m0:00:00\u001b[0m\n",
            "\u001b[?25hInstalling collected packages: dimod, dwave-samplers, dwave-neal\n",
            "Successfully installed dimod-0.12.20 dwave-neal-0.6.0 dwave-samplers-1.5.0\n"
          ]
        }
      ],
      "source": [
        "!pip install dwave-neal"
      ]
    },
    {
      "cell_type": "code",
      "source": [
        "import numpy as np\n",
        "import random\n",
        "from neal import SimulatedAnnealingSampler\n",
        "\n",
        "# def generate_random_qubo(size):\n",
        "#     \"\"\"Generate a random QUBO matrix of given size.\"\"\"\n",
        "#     Q = np.random.randint(-10, 10, (size, size))\n",
        "#     np.fill_diagonal(Q, np.random.randint(-10, 0, size))  # Self-interactions\n",
        "#     return (Q + Q.T) // 2  # Ensure symmetry\n",
        "\n",
        "def decompose_qubo(Q, sub_size):\n",
        "    \"\"\"Decomposes a large QUBO into smaller sub-QUBOs.\"\"\"\n",
        "    n = Q.shape[0]\n",
        "    indices = list(range(n))\n",
        "    random.shuffle(indices)\n",
        "    sub_qubos = []\n",
        "\n",
        "    for i in range(0, n, sub_size):\n",
        "        sub_indices = indices[i:i + sub_size]\n",
        "        sub_Q = Q[np.ix_(sub_indices, sub_indices)]\n",
        "        sub_qubos.append((sub_indices, sub_Q))\n",
        "\n",
        "    return sub_qubos\n",
        "\n",
        "def solve_sub_qubo(sub_Q):\n",
        "    \"\"\"Solves a sub-QUBO using D-Wave's neal Simulated Annealing Sampler.\"\"\"\n",
        "    sampler = SimulatedAnnealingSampler()\n",
        "    qubo_dict = {(i, j): sub_Q[i, j] for i in range(sub_Q.shape[0]) for j in range(sub_Q.shape[1])}\n",
        "    response = sampler.sample_qubo(qubo_dict, num_reads=100)\n",
        "    best_solution = list(response.first.sample.values())\n",
        "    return np.array(best_solution)\n",
        "\n",
        "def aggregate_solutions(n, sub_qubos, iterations=10):\n",
        "    \"\"\"Aggregates sub-QUBO solutions into a global solution.\"\"\"\n",
        "    global_solution = np.random.choice([0, 1], n)  # Initial random solution\n",
        "\n",
        "    for _ in range(iterations):\n",
        "        for sub_indices, sub_Q in sub_qubos:\n",
        "            sub_solution = solve_sub_qubo(sub_Q)\n",
        "            for i, idx in enumerate(sub_indices):\n",
        "                global_solution[idx] = sub_solution[i]  # Update global solution\n",
        "\n",
        "    return global_solution\n",
        "\n",
        "# # Example usage\n",
        "# n = 10  # Size of full QUBO\n",
        "# sub_size = 2  # Sub-QUBO size\n",
        "# Q = generate_random_qubo(n)\n",
        "# sub_qubos = decompose_qubo(Q, sub_size)\n",
        "# global_solution = aggregate_solutions(n, sub_qubos)\n",
        "\n",
        "# print(\"Generated QUBO Matrix:\")\n",
        "# print(Q)\n",
        "# print(\"\\nComputed Global Solution:\")\n",
        "# print(global_solution)\n"
      ],
      "metadata": {
        "id": "LCzfmfKU2DS_"
      },
      "execution_count": 2,
      "outputs": []
    },
    {
      "cell_type": "code",
      "source": [
        "import numpy as np\n",
        "import random\n",
        "from neal import SimulatedAnnealingSampler\n",
        "\n",
        "# def generate_random_qubo(size):\n",
        "#     \"\"\"Generate a random QUBO matrix of given size.\"\"\"\n",
        "#     Q = np.random.randint(-10, 10, (size, size))\n",
        "#     np.fill_diagonal(Q, np.random.randint(-10, 0, size))  # Self-interactions\n",
        "#     return (Q + Q.T) // 2  # Ensure symmetry\n",
        "\n",
        "def decompose_qubo(Q, sub_size):\n",
        "    \"\"\"Decomposes a large QUBO into smaller sub-QUBOs.\"\"\"\n",
        "    n = Q.shape[0]\n",
        "    indices = list(range(n))\n",
        "    random.shuffle(indices)\n",
        "    sub_qubos = []\n",
        "\n",
        "    for i in range(0, n, sub_size):\n",
        "        sub_indices = indices[i:i + sub_size]\n",
        "        sub_Q = Q[np.ix_(sub_indices, sub_indices)]\n",
        "        sub_qubos.append((sub_indices, sub_Q))\n",
        "\n",
        "    return sub_qubos\n",
        "\n",
        "def solve_sub_qubo(sub_Q):\n",
        "    \"\"\"Solves a sub-QUBO using D-Wave's neal Simulated Annealing Sampler.\"\"\"\n",
        "    sampler = SimulatedAnnealingSampler()\n",
        "    qubo_dict = {(i, j): sub_Q[i, j] for i in range(sub_Q.shape[0]) for j in range(sub_Q.shape[1])}\n",
        "    response = sampler.sample_qubo(qubo_dict, num_reads=100)\n",
        "    best_solution = list(response.first.sample.values())\n",
        "    return np.array(best_solution)\n",
        "\n",
        "def aggregate_solutions(n, sub_qubos, iterations=10):\n",
        "    \"\"\"Aggregates sub-QUBO solutions into a global solution.\"\"\"\n",
        "    global_solution = np.random.choice([0, 1], n)  # Initial random solution\n",
        "\n",
        "    for _ in range(iterations):\n",
        "        for sub_indices, sub_Q in sub_qubos:\n",
        "            sub_solution = solve_sub_qubo(sub_Q)\n",
        "            print(f\"Sub-QUBO indices: {sub_indices}, Solution: {sub_solution}\")  # Print individual sub-QUBO solutions\n",
        "            for i, idx in enumerate(sub_indices):\n",
        "                global_solution[idx] = sub_solution[i]  # Update global solution\n",
        "\n",
        "    return global_solution\n",
        "\n",
        "# # Example usage\n",
        "# n = 10  # Size of full QUBO\n",
        "# sub_size = 4  # Sub-QUBO size\n",
        "# Q = generate_random_qubo(n)\n",
        "\n",
        "# sub_qubos = decompose_qubo(Q, sub_size)\n",
        "# global_solution = aggregate_solutions(n, sub_qubos)\n",
        "\n",
        "# print(\"Generated QUBO Matrix:\")\n",
        "# print(Q)\n",
        "# print(\"\\nComputed Global Solution:\")\n",
        "# print(global_solution)"
      ],
      "metadata": {
        "id": "ydBGEkb52EzT"
      },
      "execution_count": 3,
      "outputs": []
    },
    {
      "cell_type": "code",
      "source": [],
      "metadata": {
        "id": "MbAcykEHJpoj"
      },
      "execution_count": 3,
      "outputs": []
    },
    {
      "cell_type": "markdown",
      "source": [],
      "metadata": {
        "id": "tSKeIT79R7gX"
      }
    },
    {
      "cell_type": "code",
      "source": [
        "!pip install yfinance\n",
        "!pip install scipy\n",
        "!pip install qiskit==1.3.0\n",
        "!pip install qiskit_finance\n",
        "!pip install qiskit_optimization\n",
        "!pip install pandas_datareader\n",
        "!pip install matplotlib\n",
        "!pip install qiskit_aer\n",
        "!pip install pylatexenc\n",
        "!pip install qiskit-algorithms\n",
        "!pip install dwave-ocean-sdk"
      ],
      "metadata": {
        "id": "Dqf6kUtpR7wn",
        "colab": {
          "base_uri": "https://localhost:8080/",
          "height": 1000
        },
        "outputId": "730ba34f-a438-40db-c161-239fd6ef664d"
      },
      "execution_count": 4,
      "outputs": [
        {
          "output_type": "stream",
          "name": "stdout",
          "text": [
            "Requirement already satisfied: yfinance in /usr/local/lib/python3.11/dist-packages (0.2.55)\n",
            "Requirement already satisfied: pandas>=1.3.0 in /usr/local/lib/python3.11/dist-packages (from yfinance) (2.2.2)\n",
            "Requirement already satisfied: numpy>=1.16.5 in /usr/local/lib/python3.11/dist-packages (from yfinance) (2.0.2)\n",
            "Requirement already satisfied: requests>=2.31 in /usr/local/lib/python3.11/dist-packages (from yfinance) (2.32.3)\n",
            "Requirement already satisfied: multitasking>=0.0.7 in /usr/local/lib/python3.11/dist-packages (from yfinance) (0.0.11)\n",
            "Requirement already satisfied: platformdirs>=2.0.0 in /usr/local/lib/python3.11/dist-packages (from yfinance) (4.3.7)\n",
            "Requirement already satisfied: pytz>=2022.5 in /usr/local/lib/python3.11/dist-packages (from yfinance) (2025.2)\n",
            "Requirement already satisfied: frozendict>=2.3.4 in /usr/local/lib/python3.11/dist-packages (from yfinance) (2.4.6)\n",
            "Requirement already satisfied: peewee>=3.16.2 in /usr/local/lib/python3.11/dist-packages (from yfinance) (3.17.9)\n",
            "Requirement already satisfied: beautifulsoup4>=4.11.1 in /usr/local/lib/python3.11/dist-packages (from yfinance) (4.13.4)\n",
            "Requirement already satisfied: soupsieve>1.2 in /usr/local/lib/python3.11/dist-packages (from beautifulsoup4>=4.11.1->yfinance) (2.7)\n",
            "Requirement already satisfied: typing-extensions>=4.0.0 in /usr/local/lib/python3.11/dist-packages (from beautifulsoup4>=4.11.1->yfinance) (4.13.2)\n",
            "Requirement already satisfied: python-dateutil>=2.8.2 in /usr/local/lib/python3.11/dist-packages (from pandas>=1.3.0->yfinance) (2.8.2)\n",
            "Requirement already satisfied: tzdata>=2022.7 in /usr/local/lib/python3.11/dist-packages (from pandas>=1.3.0->yfinance) (2025.2)\n",
            "Requirement already satisfied: charset-normalizer<4,>=2 in /usr/local/lib/python3.11/dist-packages (from requests>=2.31->yfinance) (3.4.1)\n",
            "Requirement already satisfied: idna<4,>=2.5 in /usr/local/lib/python3.11/dist-packages (from requests>=2.31->yfinance) (3.10)\n",
            "Requirement already satisfied: urllib3<3,>=1.21.1 in /usr/local/lib/python3.11/dist-packages (from requests>=2.31->yfinance) (2.3.0)\n",
            "Requirement already satisfied: certifi>=2017.4.17 in /usr/local/lib/python3.11/dist-packages (from requests>=2.31->yfinance) (2025.1.31)\n",
            "Requirement already satisfied: six>=1.5 in /usr/local/lib/python3.11/dist-packages (from python-dateutil>=2.8.2->pandas>=1.3.0->yfinance) (1.17.0)\n",
            "Requirement already satisfied: scipy in /usr/local/lib/python3.11/dist-packages (1.14.1)\n",
            "Requirement already satisfied: numpy<2.3,>=1.23.5 in /usr/local/lib/python3.11/dist-packages (from scipy) (2.0.2)\n",
            "Collecting qiskit==1.3.0\n",
            "  Downloading qiskit-1.3.0-cp39-abi3-manylinux_2_17_x86_64.manylinux2014_x86_64.whl.metadata (12 kB)\n",
            "Collecting rustworkx>=0.15.0 (from qiskit==1.3.0)\n",
            "  Downloading rustworkx-0.16.0-cp39-abi3-manylinux_2_17_x86_64.manylinux2014_x86_64.whl.metadata (10 kB)\n",
            "Requirement already satisfied: numpy<3,>=1.17 in /usr/local/lib/python3.11/dist-packages (from qiskit==1.3.0) (2.0.2)\n",
            "Requirement already satisfied: scipy>=1.5 in /usr/local/lib/python3.11/dist-packages (from qiskit==1.3.0) (1.14.1)\n",
            "Requirement already satisfied: sympy>=1.3 in /usr/local/lib/python3.11/dist-packages (from qiskit==1.3.0) (1.13.1)\n",
            "Collecting dill>=0.3 (from qiskit==1.3.0)\n",
            "  Downloading dill-0.4.0-py3-none-any.whl.metadata (10 kB)\n",
            "Requirement already satisfied: python-dateutil>=2.8.0 in /usr/local/lib/python3.11/dist-packages (from qiskit==1.3.0) (2.8.2)\n",
            "Collecting stevedore>=3.0.0 (from qiskit==1.3.0)\n",
            "  Downloading stevedore-5.4.1-py3-none-any.whl.metadata (2.3 kB)\n",
            "Requirement already satisfied: typing-extensions in /usr/local/lib/python3.11/dist-packages (from qiskit==1.3.0) (4.13.2)\n",
            "Collecting symengine<0.14,>=0.11 (from qiskit==1.3.0)\n",
            "  Downloading symengine-0.13.0-cp311-cp311-manylinux_2_17_x86_64.manylinux2014_x86_64.whl.metadata (1.2 kB)\n",
            "Requirement already satisfied: six>=1.5 in /usr/local/lib/python3.11/dist-packages (from python-dateutil>=2.8.0->qiskit==1.3.0) (1.17.0)\n",
            "Collecting pbr>=2.0.0 (from stevedore>=3.0.0->qiskit==1.3.0)\n",
            "  Downloading pbr-6.1.1-py2.py3-none-any.whl.metadata (3.4 kB)\n",
            "Requirement already satisfied: mpmath<1.4,>=1.1.0 in /usr/local/lib/python3.11/dist-packages (from sympy>=1.3->qiskit==1.3.0) (1.3.0)\n",
            "Requirement already satisfied: setuptools in /usr/local/lib/python3.11/dist-packages (from pbr>=2.0.0->stevedore>=3.0.0->qiskit==1.3.0) (75.2.0)\n",
            "Downloading qiskit-1.3.0-cp39-abi3-manylinux_2_17_x86_64.manylinux2014_x86_64.whl (6.7 MB)\n",
            "\u001b[2K   \u001b[90m━━━━━━━━━━━━━━━━━━━━━━━━━━━━━━━━━━━━━━━━\u001b[0m \u001b[32m6.7/6.7 MB\u001b[0m \u001b[31m59.5 MB/s\u001b[0m eta \u001b[36m0:00:00\u001b[0m\n",
            "\u001b[?25hDownloading dill-0.4.0-py3-none-any.whl (119 kB)\n",
            "\u001b[2K   \u001b[90m━━━━━━━━━━━━━━━━━━━━━━━━━━━━━━━━━━━━━━━━\u001b[0m \u001b[32m119.7/119.7 kB\u001b[0m \u001b[31m9.0 MB/s\u001b[0m eta \u001b[36m0:00:00\u001b[0m\n",
            "\u001b[?25hDownloading rustworkx-0.16.0-cp39-abi3-manylinux_2_17_x86_64.manylinux2014_x86_64.whl (2.1 MB)\n",
            "\u001b[2K   \u001b[90m━━━━━━━━━━━━━━━━━━━━━━━━━━━━━━━━━━━━━━━━\u001b[0m \u001b[32m2.1/2.1 MB\u001b[0m \u001b[31m63.8 MB/s\u001b[0m eta \u001b[36m0:00:00\u001b[0m\n",
            "\u001b[?25hDownloading stevedore-5.4.1-py3-none-any.whl (49 kB)\n",
            "\u001b[2K   \u001b[90m━━━━━━━━━━━━━━━━━━━━━━━━━━━━━━━━━━━━━━━━\u001b[0m \u001b[32m49.5/49.5 kB\u001b[0m \u001b[31m3.8 MB/s\u001b[0m eta \u001b[36m0:00:00\u001b[0m\n",
            "\u001b[?25hDownloading symengine-0.13.0-cp311-cp311-manylinux_2_17_x86_64.manylinux2014_x86_64.whl (49.7 MB)\n",
            "\u001b[2K   \u001b[90m━━━━━━━━━━━━━━━━━━━━━━━━━━━━━━━━━━━━━━━━\u001b[0m \u001b[32m49.7/49.7 MB\u001b[0m \u001b[31m16.9 MB/s\u001b[0m eta \u001b[36m0:00:00\u001b[0m\n",
            "\u001b[?25hDownloading pbr-6.1.1-py2.py3-none-any.whl (108 kB)\n",
            "\u001b[2K   \u001b[90m━━━━━━━━━━━━━━━━━━━━━━━━━━━━━━━━━━━━━━━━\u001b[0m \u001b[32m109.0/109.0 kB\u001b[0m \u001b[31m8.8 MB/s\u001b[0m eta \u001b[36m0:00:00\u001b[0m\n",
            "\u001b[?25hInstalling collected packages: symengine, rustworkx, pbr, dill, stevedore, qiskit\n",
            "Successfully installed dill-0.4.0 pbr-6.1.1 qiskit-1.3.0 rustworkx-0.16.0 stevedore-5.4.1 symengine-0.13.0\n",
            "Collecting qiskit_finance\n",
            "  Downloading qiskit_finance-0.4.1-py3-none-any.whl.metadata (6.0 kB)\n",
            "Requirement already satisfied: qiskit>=0.45 in /usr/local/lib/python3.11/dist-packages (from qiskit_finance) (1.3.0)\n",
            "Collecting qiskit-algorithms>=0.2.0 (from qiskit_finance)\n",
            "  Downloading qiskit_algorithms-0.3.1-py3-none-any.whl.metadata (4.2 kB)\n",
            "Collecting qiskit-optimization>=0.6.0 (from qiskit_finance)\n",
            "  Downloading qiskit_optimization-0.6.1-py3-none-any.whl.metadata (8.6 kB)\n",
            "Requirement already satisfied: scipy>=1.4 in /usr/local/lib/python3.11/dist-packages (from qiskit_finance) (1.14.1)\n",
            "Requirement already satisfied: numpy>=1.17 in /usr/local/lib/python3.11/dist-packages (from qiskit_finance) (2.0.2)\n",
            "Requirement already satisfied: psutil>=5 in /usr/local/lib/python3.11/dist-packages (from qiskit_finance) (5.9.5)\n",
            "Collecting fastdtw (from qiskit_finance)\n",
            "  Downloading fastdtw-0.3.4.tar.gz (133 kB)\n",
            "\u001b[2K     \u001b[90m━━━━━━━━━━━━━━━━━━━━━━━━━━━━━━━━━━━━━━━\u001b[0m \u001b[32m133.4/133.4 kB\u001b[0m \u001b[31m4.8 MB/s\u001b[0m eta \u001b[36m0:00:00\u001b[0m\n",
            "\u001b[?25h  Preparing metadata (setup.py) ... \u001b[?25l\u001b[?25hdone\n",
            "Requirement already satisfied: setuptools>=40.1.0 in /usr/local/lib/python3.11/dist-packages (from qiskit_finance) (75.2.0)\n",
            "Requirement already satisfied: pandas in /usr/local/lib/python3.11/dist-packages (from qiskit_finance) (2.2.2)\n",
            "Collecting nasdaq-data-link (from qiskit_finance)\n",
            "  Downloading Nasdaq_Data_Link-1.0.4-py2.py3-none-any.whl.metadata (1.3 kB)\n",
            "Requirement already satisfied: yfinance>=0.1.70 in /usr/local/lib/python3.11/dist-packages (from qiskit_finance) (0.2.55)\n",
            "Requirement already satisfied: certifi in /usr/local/lib/python3.11/dist-packages (from qiskit_finance) (2025.1.31)\n",
            "Requirement already satisfied: urllib3 in /usr/local/lib/python3.11/dist-packages (from qiskit_finance) (2.3.0)\n",
            "Requirement already satisfied: rustworkx>=0.15.0 in /usr/local/lib/python3.11/dist-packages (from qiskit>=0.45->qiskit_finance) (0.16.0)\n",
            "Requirement already satisfied: sympy>=1.3 in /usr/local/lib/python3.11/dist-packages (from qiskit>=0.45->qiskit_finance) (1.13.1)\n",
            "Requirement already satisfied: dill>=0.3 in /usr/local/lib/python3.11/dist-packages (from qiskit>=0.45->qiskit_finance) (0.4.0)\n",
            "Requirement already satisfied: python-dateutil>=2.8.0 in /usr/local/lib/python3.11/dist-packages (from qiskit>=0.45->qiskit_finance) (2.8.2)\n",
            "Requirement already satisfied: stevedore>=3.0.0 in /usr/local/lib/python3.11/dist-packages (from qiskit>=0.45->qiskit_finance) (5.4.1)\n",
            "Requirement already satisfied: typing-extensions in /usr/local/lib/python3.11/dist-packages (from qiskit>=0.45->qiskit_finance) (4.13.2)\n",
            "Requirement already satisfied: symengine<0.14,>=0.11 in /usr/local/lib/python3.11/dist-packages (from qiskit>=0.45->qiskit_finance) (0.13.0)\n",
            "Collecting docplex!=2.24.231,>=2.21.207 (from qiskit-optimization>=0.6.0->qiskit_finance)\n",
            "  Downloading docplex-2.29.241.tar.gz (645 kB)\n",
            "\u001b[2K     \u001b[90m━━━━━━━━━━━━━━━━━━━━━━━━━━━━━━━━━━━━━━\u001b[0m \u001b[32m645.5/645.5 kB\u001b[0m \u001b[31m26.0 MB/s\u001b[0m eta \u001b[36m0:00:00\u001b[0m\n",
            "\u001b[?25h  Installing build dependencies ... \u001b[?25l\u001b[?25hdone\n",
            "  Getting requirements to build wheel ... \u001b[?25l\u001b[?25hdone\n",
            "  Installing backend dependencies ... \u001b[?25l\u001b[?25hdone\n",
            "  Preparing metadata (pyproject.toml) ... \u001b[?25l\u001b[?25hdone\n",
            "Requirement already satisfied: networkx>=2.6.3 in /usr/local/lib/python3.11/dist-packages (from qiskit-optimization>=0.6.0->qiskit_finance) (3.4.2)\n",
            "Requirement already satisfied: requests>=2.31 in /usr/local/lib/python3.11/dist-packages (from yfinance>=0.1.70->qiskit_finance) (2.32.3)\n",
            "Requirement already satisfied: multitasking>=0.0.7 in /usr/local/lib/python3.11/dist-packages (from yfinance>=0.1.70->qiskit_finance) (0.0.11)\n",
            "Requirement already satisfied: platformdirs>=2.0.0 in /usr/local/lib/python3.11/dist-packages (from yfinance>=0.1.70->qiskit_finance) (4.3.7)\n",
            "Requirement already satisfied: pytz>=2022.5 in /usr/local/lib/python3.11/dist-packages (from yfinance>=0.1.70->qiskit_finance) (2025.2)\n",
            "Requirement already satisfied: frozendict>=2.3.4 in /usr/local/lib/python3.11/dist-packages (from yfinance>=0.1.70->qiskit_finance) (2.4.6)\n",
            "Requirement already satisfied: peewee>=3.16.2 in /usr/local/lib/python3.11/dist-packages (from yfinance>=0.1.70->qiskit_finance) (3.17.9)\n",
            "Requirement already satisfied: beautifulsoup4>=4.11.1 in /usr/local/lib/python3.11/dist-packages (from yfinance>=0.1.70->qiskit_finance) (4.13.4)\n",
            "Requirement already satisfied: tzdata>=2022.7 in /usr/local/lib/python3.11/dist-packages (from pandas->qiskit_finance) (2025.2)\n",
            "Collecting inflection>=0.3.1 (from nasdaq-data-link->qiskit_finance)\n",
            "  Downloading inflection-0.5.1-py2.py3-none-any.whl.metadata (1.7 kB)\n",
            "Requirement already satisfied: six in /usr/local/lib/python3.11/dist-packages (from nasdaq-data-link->qiskit_finance) (1.17.0)\n",
            "Requirement already satisfied: more-itertools in /usr/local/lib/python3.11/dist-packages (from nasdaq-data-link->qiskit_finance) (10.6.0)\n",
            "Requirement already satisfied: soupsieve>1.2 in /usr/local/lib/python3.11/dist-packages (from beautifulsoup4>=4.11.1->yfinance>=0.1.70->qiskit_finance) (2.7)\n",
            "Requirement already satisfied: charset-normalizer<4,>=2 in /usr/local/lib/python3.11/dist-packages (from requests>=2.31->yfinance>=0.1.70->qiskit_finance) (3.4.1)\n",
            "Requirement already satisfied: idna<4,>=2.5 in /usr/local/lib/python3.11/dist-packages (from requests>=2.31->yfinance>=0.1.70->qiskit_finance) (3.10)\n",
            "Requirement already satisfied: pbr>=2.0.0 in /usr/local/lib/python3.11/dist-packages (from stevedore>=3.0.0->qiskit>=0.45->qiskit_finance) (6.1.1)\n",
            "Requirement already satisfied: mpmath<1.4,>=1.1.0 in /usr/local/lib/python3.11/dist-packages (from sympy>=1.3->qiskit>=0.45->qiskit_finance) (1.3.0)\n",
            "Downloading qiskit_finance-0.4.1-py3-none-any.whl (51 kB)\n",
            "\u001b[2K   \u001b[90m━━━━━━━━━━━━━━━━━━━━━━━━━━━━━━━━━━━━━━━━\u001b[0m \u001b[32m51.2/51.2 kB\u001b[0m \u001b[31m3.7 MB/s\u001b[0m eta \u001b[36m0:00:00\u001b[0m\n",
            "\u001b[?25hDownloading qiskit_algorithms-0.3.1-py3-none-any.whl (310 kB)\n",
            "\u001b[2K   \u001b[90m━━━━━━━━━━━━━━━━━━━━━━━━━━━━━━━━━━━━━━━━\u001b[0m \u001b[32m310.5/310.5 kB\u001b[0m \u001b[31m23.3 MB/s\u001b[0m eta \u001b[36m0:00:00\u001b[0m\n",
            "\u001b[?25hDownloading qiskit_optimization-0.6.1-py3-none-any.whl (167 kB)\n",
            "\u001b[2K   \u001b[90m━━━━━━━━━━━━━━━━━━━━━━━━━━━━━━━━━━━━━━━━\u001b[0m \u001b[32m167.6/167.6 kB\u001b[0m \u001b[31m14.8 MB/s\u001b[0m eta \u001b[36m0:00:00\u001b[0m\n",
            "\u001b[?25hDownloading Nasdaq_Data_Link-1.0.4-py2.py3-none-any.whl (28 kB)\n",
            "Downloading inflection-0.5.1-py2.py3-none-any.whl (9.5 kB)\n",
            "Building wheels for collected packages: fastdtw, docplex\n",
            "  Building wheel for fastdtw (setup.py) ... \u001b[?25l\u001b[?25hdone\n",
            "  Created wheel for fastdtw: filename=fastdtw-0.3.4-cp311-cp311-linux_x86_64.whl size=542085 sha256=7381bfcb2460356e2bd2a90554a66dcd2bb378cce31e779c46f0b25efe990478\n",
            "  Stored in directory: /root/.cache/pip/wheels/5c/8a/f6/fd3df9a9714677410a5ccbf3ca519e66db4a54a1c46ea95332\n",
            "  Building wheel for docplex (pyproject.toml) ... \u001b[?25l\u001b[?25hdone\n",
            "  Created wheel for docplex: filename=docplex-2.29.241-py3-none-any.whl size=685423 sha256=da2c7f753694221972bb5ee3e085bb71ab93c0088296613ea9303d0d1b15f286\n",
            "  Stored in directory: /root/.cache/pip/wheels/00/4f/37/fbc42df1f9b6786024d4b39c81f0b373c84e6fab9e18513fc2\n",
            "Successfully built fastdtw docplex\n",
            "Installing collected packages: inflection, fastdtw, docplex, nasdaq-data-link, qiskit-algorithms, qiskit-optimization, qiskit_finance\n",
            "Successfully installed docplex-2.29.241 fastdtw-0.3.4 inflection-0.5.1 nasdaq-data-link-1.0.4 qiskit-algorithms-0.3.1 qiskit-optimization-0.6.1 qiskit_finance-0.4.1\n",
            "Requirement already satisfied: qiskit_optimization in /usr/local/lib/python3.11/dist-packages (0.6.1)\n",
            "Requirement already satisfied: qiskit>=0.44 in /usr/local/lib/python3.11/dist-packages (from qiskit_optimization) (1.3.0)\n",
            "Requirement already satisfied: qiskit-algorithms>=0.2.0 in /usr/local/lib/python3.11/dist-packages (from qiskit_optimization) (0.3.1)\n",
            "Requirement already satisfied: scipy>=1.9.0 in /usr/local/lib/python3.11/dist-packages (from qiskit_optimization) (1.14.1)\n",
            "Requirement already satisfied: numpy>=1.17 in /usr/local/lib/python3.11/dist-packages (from qiskit_optimization) (2.0.2)\n",
            "Requirement already satisfied: docplex!=2.24.231,>=2.21.207 in /usr/local/lib/python3.11/dist-packages (from qiskit_optimization) (2.29.241)\n",
            "Requirement already satisfied: setuptools>=40.1.0 in /usr/local/lib/python3.11/dist-packages (from qiskit_optimization) (75.2.0)\n",
            "Requirement already satisfied: networkx>=2.6.3 in /usr/local/lib/python3.11/dist-packages (from qiskit_optimization) (3.4.2)\n",
            "Requirement already satisfied: six in /usr/local/lib/python3.11/dist-packages (from docplex!=2.24.231,>=2.21.207->qiskit_optimization) (1.17.0)\n",
            "Requirement already satisfied: rustworkx>=0.15.0 in /usr/local/lib/python3.11/dist-packages (from qiskit>=0.44->qiskit_optimization) (0.16.0)\n",
            "Requirement already satisfied: sympy>=1.3 in /usr/local/lib/python3.11/dist-packages (from qiskit>=0.44->qiskit_optimization) (1.13.1)\n",
            "Requirement already satisfied: dill>=0.3 in /usr/local/lib/python3.11/dist-packages (from qiskit>=0.44->qiskit_optimization) (0.4.0)\n",
            "Requirement already satisfied: python-dateutil>=2.8.0 in /usr/local/lib/python3.11/dist-packages (from qiskit>=0.44->qiskit_optimization) (2.8.2)\n",
            "Requirement already satisfied: stevedore>=3.0.0 in /usr/local/lib/python3.11/dist-packages (from qiskit>=0.44->qiskit_optimization) (5.4.1)\n",
            "Requirement already satisfied: typing-extensions in /usr/local/lib/python3.11/dist-packages (from qiskit>=0.44->qiskit_optimization) (4.13.2)\n",
            "Requirement already satisfied: symengine<0.14,>=0.11 in /usr/local/lib/python3.11/dist-packages (from qiskit>=0.44->qiskit_optimization) (0.13.0)\n",
            "Requirement already satisfied: pbr>=2.0.0 in /usr/local/lib/python3.11/dist-packages (from stevedore>=3.0.0->qiskit>=0.44->qiskit_optimization) (6.1.1)\n",
            "Requirement already satisfied: mpmath<1.4,>=1.1.0 in /usr/local/lib/python3.11/dist-packages (from sympy>=1.3->qiskit>=0.44->qiskit_optimization) (1.3.0)\n",
            "Requirement already satisfied: pandas_datareader in /usr/local/lib/python3.11/dist-packages (0.10.0)\n",
            "Requirement already satisfied: lxml in /usr/local/lib/python3.11/dist-packages (from pandas_datareader) (5.3.2)\n",
            "Requirement already satisfied: pandas>=0.23 in /usr/local/lib/python3.11/dist-packages (from pandas_datareader) (2.2.2)\n",
            "Requirement already satisfied: requests>=2.19.0 in /usr/local/lib/python3.11/dist-packages (from pandas_datareader) (2.32.3)\n",
            "Requirement already satisfied: numpy>=1.23.2 in /usr/local/lib/python3.11/dist-packages (from pandas>=0.23->pandas_datareader) (2.0.2)\n",
            "Requirement already satisfied: python-dateutil>=2.8.2 in /usr/local/lib/python3.11/dist-packages (from pandas>=0.23->pandas_datareader) (2.8.2)\n",
            "Requirement already satisfied: pytz>=2020.1 in /usr/local/lib/python3.11/dist-packages (from pandas>=0.23->pandas_datareader) (2025.2)\n",
            "Requirement already satisfied: tzdata>=2022.7 in /usr/local/lib/python3.11/dist-packages (from pandas>=0.23->pandas_datareader) (2025.2)\n",
            "Requirement already satisfied: charset-normalizer<4,>=2 in /usr/local/lib/python3.11/dist-packages (from requests>=2.19.0->pandas_datareader) (3.4.1)\n",
            "Requirement already satisfied: idna<4,>=2.5 in /usr/local/lib/python3.11/dist-packages (from requests>=2.19.0->pandas_datareader) (3.10)\n",
            "Requirement already satisfied: urllib3<3,>=1.21.1 in /usr/local/lib/python3.11/dist-packages (from requests>=2.19.0->pandas_datareader) (2.3.0)\n",
            "Requirement already satisfied: certifi>=2017.4.17 in /usr/local/lib/python3.11/dist-packages (from requests>=2.19.0->pandas_datareader) (2025.1.31)\n",
            "Requirement already satisfied: six>=1.5 in /usr/local/lib/python3.11/dist-packages (from python-dateutil>=2.8.2->pandas>=0.23->pandas_datareader) (1.17.0)\n",
            "Requirement already satisfied: matplotlib in /usr/local/lib/python3.11/dist-packages (3.10.0)\n",
            "Requirement already satisfied: contourpy>=1.0.1 in /usr/local/lib/python3.11/dist-packages (from matplotlib) (1.3.2)\n",
            "Requirement already satisfied: cycler>=0.10 in /usr/local/lib/python3.11/dist-packages (from matplotlib) (0.12.1)\n",
            "Requirement already satisfied: fonttools>=4.22.0 in /usr/local/lib/python3.11/dist-packages (from matplotlib) (4.57.0)\n",
            "Requirement already satisfied: kiwisolver>=1.3.1 in /usr/local/lib/python3.11/dist-packages (from matplotlib) (1.4.8)\n",
            "Requirement already satisfied: numpy>=1.23 in /usr/local/lib/python3.11/dist-packages (from matplotlib) (2.0.2)\n",
            "Requirement already satisfied: packaging>=20.0 in /usr/local/lib/python3.11/dist-packages (from matplotlib) (24.2)\n",
            "Requirement already satisfied: pillow>=8 in /usr/local/lib/python3.11/dist-packages (from matplotlib) (11.1.0)\n",
            "Requirement already satisfied: pyparsing>=2.3.1 in /usr/local/lib/python3.11/dist-packages (from matplotlib) (3.2.3)\n",
            "Requirement already satisfied: python-dateutil>=2.7 in /usr/local/lib/python3.11/dist-packages (from matplotlib) (2.8.2)\n",
            "Requirement already satisfied: six>=1.5 in /usr/local/lib/python3.11/dist-packages (from python-dateutil>=2.7->matplotlib) (1.17.0)\n",
            "Collecting qiskit_aer\n",
            "  Downloading qiskit_aer-0.17.0-cp311-cp311-manylinux_2_17_x86_64.manylinux2014_x86_64.whl.metadata (8.2 kB)\n",
            "Requirement already satisfied: qiskit>=1.1.0 in /usr/local/lib/python3.11/dist-packages (from qiskit_aer) (1.3.0)\n",
            "Requirement already satisfied: numpy>=1.16.3 in /usr/local/lib/python3.11/dist-packages (from qiskit_aer) (2.0.2)\n",
            "Requirement already satisfied: scipy>=1.0 in /usr/local/lib/python3.11/dist-packages (from qiskit_aer) (1.14.1)\n",
            "Requirement already satisfied: psutil>=5 in /usr/local/lib/python3.11/dist-packages (from qiskit_aer) (5.9.5)\n",
            "Requirement already satisfied: rustworkx>=0.15.0 in /usr/local/lib/python3.11/dist-packages (from qiskit>=1.1.0->qiskit_aer) (0.16.0)\n",
            "Requirement already satisfied: sympy>=1.3 in /usr/local/lib/python3.11/dist-packages (from qiskit>=1.1.0->qiskit_aer) (1.13.1)\n",
            "Requirement already satisfied: dill>=0.3 in /usr/local/lib/python3.11/dist-packages (from qiskit>=1.1.0->qiskit_aer) (0.4.0)\n",
            "Requirement already satisfied: python-dateutil>=2.8.0 in /usr/local/lib/python3.11/dist-packages (from qiskit>=1.1.0->qiskit_aer) (2.8.2)\n",
            "Requirement already satisfied: stevedore>=3.0.0 in /usr/local/lib/python3.11/dist-packages (from qiskit>=1.1.0->qiskit_aer) (5.4.1)\n",
            "Requirement already satisfied: typing-extensions in /usr/local/lib/python3.11/dist-packages (from qiskit>=1.1.0->qiskit_aer) (4.13.2)\n",
            "Requirement already satisfied: symengine<0.14,>=0.11 in /usr/local/lib/python3.11/dist-packages (from qiskit>=1.1.0->qiskit_aer) (0.13.0)\n",
            "Requirement already satisfied: six>=1.5 in /usr/local/lib/python3.11/dist-packages (from python-dateutil>=2.8.0->qiskit>=1.1.0->qiskit_aer) (1.17.0)\n",
            "Requirement already satisfied: pbr>=2.0.0 in /usr/local/lib/python3.11/dist-packages (from stevedore>=3.0.0->qiskit>=1.1.0->qiskit_aer) (6.1.1)\n",
            "Requirement already satisfied: mpmath<1.4,>=1.1.0 in /usr/local/lib/python3.11/dist-packages (from sympy>=1.3->qiskit>=1.1.0->qiskit_aer) (1.3.0)\n",
            "Requirement already satisfied: setuptools in /usr/local/lib/python3.11/dist-packages (from pbr>=2.0.0->stevedore>=3.0.0->qiskit>=1.1.0->qiskit_aer) (75.2.0)\n",
            "Downloading qiskit_aer-0.17.0-cp311-cp311-manylinux_2_17_x86_64.manylinux2014_x86_64.whl (12.4 MB)\n",
            "\u001b[2K   \u001b[90m━━━━━━━━━━━━━━━━━━━━━━━━━━━━━━━━━━━━━━━━\u001b[0m \u001b[32m12.4/12.4 MB\u001b[0m \u001b[31m102.4 MB/s\u001b[0m eta \u001b[36m0:00:00\u001b[0m\n",
            "\u001b[?25hInstalling collected packages: qiskit_aer\n",
            "Successfully installed qiskit_aer-0.17.0\n",
            "Collecting pylatexenc\n",
            "  Downloading pylatexenc-2.10.tar.gz (162 kB)\n",
            "\u001b[2K     \u001b[90m━━━━━━━━━━━━━━━━━━━━━━━━━━━━━━━━━━━━━━━\u001b[0m \u001b[32m162.6/162.6 kB\u001b[0m \u001b[31m5.3 MB/s\u001b[0m eta \u001b[36m0:00:00\u001b[0m\n",
            "\u001b[?25h  Preparing metadata (setup.py) ... \u001b[?25l\u001b[?25hdone\n",
            "Building wheels for collected packages: pylatexenc\n",
            "  Building wheel for pylatexenc (setup.py) ... \u001b[?25l\u001b[?25hdone\n",
            "  Created wheel for pylatexenc: filename=pylatexenc-2.10-py3-none-any.whl size=136817 sha256=f8af50d67a82d86c0e926fd0ebee2fe621c51f1386f2ce8b03bf3d889391edda\n",
            "  Stored in directory: /root/.cache/pip/wheels/b1/7a/33/9fdd892f784ed4afda62b685ae3703adf4c91aa0f524c28f03\n",
            "Successfully built pylatexenc\n",
            "Installing collected packages: pylatexenc\n",
            "Successfully installed pylatexenc-2.10\n",
            "Requirement already satisfied: qiskit-algorithms in /usr/local/lib/python3.11/dist-packages (0.3.1)\n",
            "Requirement already satisfied: qiskit>=0.44 in /usr/local/lib/python3.11/dist-packages (from qiskit-algorithms) (1.3.0)\n",
            "Requirement already satisfied: scipy>=1.4 in /usr/local/lib/python3.11/dist-packages (from qiskit-algorithms) (1.14.1)\n",
            "Requirement already satisfied: numpy>=1.17 in /usr/local/lib/python3.11/dist-packages (from qiskit-algorithms) (2.0.2)\n",
            "Requirement already satisfied: rustworkx>=0.15.0 in /usr/local/lib/python3.11/dist-packages (from qiskit>=0.44->qiskit-algorithms) (0.16.0)\n",
            "Requirement already satisfied: sympy>=1.3 in /usr/local/lib/python3.11/dist-packages (from qiskit>=0.44->qiskit-algorithms) (1.13.1)\n",
            "Requirement already satisfied: dill>=0.3 in /usr/local/lib/python3.11/dist-packages (from qiskit>=0.44->qiskit-algorithms) (0.4.0)\n",
            "Requirement already satisfied: python-dateutil>=2.8.0 in /usr/local/lib/python3.11/dist-packages (from qiskit>=0.44->qiskit-algorithms) (2.8.2)\n",
            "Requirement already satisfied: stevedore>=3.0.0 in /usr/local/lib/python3.11/dist-packages (from qiskit>=0.44->qiskit-algorithms) (5.4.1)\n",
            "Requirement already satisfied: typing-extensions in /usr/local/lib/python3.11/dist-packages (from qiskit>=0.44->qiskit-algorithms) (4.13.2)\n",
            "Requirement already satisfied: symengine<0.14,>=0.11 in /usr/local/lib/python3.11/dist-packages (from qiskit>=0.44->qiskit-algorithms) (0.13.0)\n",
            "Requirement already satisfied: six>=1.5 in /usr/local/lib/python3.11/dist-packages (from python-dateutil>=2.8.0->qiskit>=0.44->qiskit-algorithms) (1.17.0)\n",
            "Requirement already satisfied: pbr>=2.0.0 in /usr/local/lib/python3.11/dist-packages (from stevedore>=3.0.0->qiskit>=0.44->qiskit-algorithms) (6.1.1)\n",
            "Requirement already satisfied: mpmath<1.4,>=1.1.0 in /usr/local/lib/python3.11/dist-packages (from sympy>=1.3->qiskit>=0.44->qiskit-algorithms) (1.3.0)\n",
            "Requirement already satisfied: setuptools in /usr/local/lib/python3.11/dist-packages (from pbr>=2.0.0->stevedore>=3.0.0->qiskit>=0.44->qiskit-algorithms) (75.2.0)\n",
            "Collecting dwave-ocean-sdk\n",
            "  Downloading dwave_ocean_sdk-8.3.0-py3-none-any.whl.metadata (5.5 kB)\n",
            "Requirement already satisfied: dimod==0.12.20 in /usr/local/lib/python3.11/dist-packages (from dwave-ocean-sdk) (0.12.20)\n",
            "Collecting dwave-cloud-client==0.13.4 (from dwave-ocean-sdk)\n",
            "  Downloading dwave_cloud_client-0.13.4-py3-none-any.whl.metadata (5.4 kB)\n",
            "Collecting dwave-gate==0.3.3 (from dwave-ocean-sdk)\n",
            "  Downloading dwave_gate-0.3.3-cp311-cp311-manylinux_2_17_x86_64.manylinux2014_x86_64.whl.metadata (18 kB)\n",
            "Collecting dwave-hybrid==0.6.14 (from dwave-ocean-sdk)\n",
            "  Downloading dwave_hybrid-0.6.14-py3-none-any.whl.metadata (4.5 kB)\n",
            "Collecting dwave-inspector==0.5.3 (from dwave-ocean-sdk)\n",
            "  Downloading dwave_inspector-0.5.3-py3-none-any.whl.metadata (4.4 kB)\n",
            "Collecting dwave-networkx==0.8.17 (from dwave-ocean-sdk)\n",
            "  Downloading dwave_networkx-0.8.17-py3-none-any.whl.metadata (2.7 kB)\n",
            "Collecting dwave-optimization==0.6.0 (from dwave-ocean-sdk)\n",
            "  Downloading dwave_optimization-0.6.0-cp311-cp311-manylinux_2_24_x86_64.manylinux_2_28_x86_64.whl.metadata (18 kB)\n",
            "Collecting dwave-preprocessing==0.6.8 (from dwave-ocean-sdk)\n",
            "  Downloading dwave_preprocessing-0.6.8-cp311-cp311-manylinux_2_17_x86_64.manylinux2014_x86_64.whl.metadata (3.5 kB)\n",
            "Requirement already satisfied: dwave-samplers==1.5.0 in /usr/local/lib/python3.11/dist-packages (from dwave-ocean-sdk) (1.5.0)\n",
            "Collecting dwave-system==1.30.0 (from dwave-ocean-sdk)\n",
            "  Downloading dwave_system-1.30.0-py3-none-any.whl.metadata (3.4 kB)\n",
            "Collecting dwavebinarycsp==0.3.1 (from dwave-ocean-sdk)\n",
            "  Downloading dwavebinarycsp-0.3.1-py3-none-any.whl.metadata (3.0 kB)\n",
            "Collecting minorminer==0.2.18 (from dwave-ocean-sdk)\n",
            "  Downloading minorminer-0.2.18-cp311-cp311-manylinux_2_24_x86_64.manylinux_2_28_x86_64.whl.metadata (19 kB)\n",
            "Collecting penaltymodel==1.2.0 (from dwave-ocean-sdk)\n",
            "  Downloading penaltymodel-1.2.0-py3-none-any.whl.metadata (6.5 kB)\n",
            "Requirement already satisfied: numpy>=1.17.3 in /usr/local/lib/python3.11/dist-packages (from dimod==0.12.20->dwave-ocean-sdk) (2.0.2)\n",
            "Requirement already satisfied: requests<3,>=2.25 in /usr/local/lib/python3.11/dist-packages (from requests[socks]<3,>=2.25->dwave-cloud-client==0.13.4->dwave-ocean-sdk) (2.32.3)\n",
            "Requirement already satisfied: urllib3<3,>=1.26 in /usr/local/lib/python3.11/dist-packages (from dwave-cloud-client==0.13.4->dwave-ocean-sdk) (2.3.0)\n",
            "Requirement already satisfied: pydantic<3,>=2 in /usr/local/lib/python3.11/dist-packages (from dwave-cloud-client==0.13.4->dwave-ocean-sdk) (2.11.3)\n",
            "Collecting homebase<2,>=1.0 (from dwave-cloud-client==0.13.4->dwave-ocean-sdk)\n",
            "  Downloading homebase-1.0.1-py2.py3-none-any.whl.metadata (3.3 kB)\n",
            "Requirement already satisfied: click<9,>=7.0 in /usr/local/lib/python3.11/dist-packages (from dwave-cloud-client==0.13.4->dwave-ocean-sdk) (8.1.8)\n",
            "Requirement already satisfied: python-dateutil<3,>=2.7 in /usr/local/lib/python3.11/dist-packages (from dwave-cloud-client==0.13.4->dwave-ocean-sdk) (2.8.2)\n",
            "Collecting plucky<0.5,>=0.4.3 (from dwave-cloud-client==0.13.4->dwave-ocean-sdk)\n",
            "  Downloading plucky-0.4.3-py2.py3-none-any.whl.metadata (4.4 kB)\n",
            "Collecting diskcache<6,>=5.2.1 (from dwave-cloud-client==0.13.4->dwave-ocean-sdk)\n",
            "  Downloading diskcache-5.6.3-py3-none-any.whl.metadata (20 kB)\n",
            "Requirement already satisfied: packaging>=19 in /usr/local/lib/python3.11/dist-packages (from dwave-cloud-client==0.13.4->dwave-ocean-sdk) (24.2)\n",
            "Requirement already satisfied: werkzeug<4,>=2.2 in /usr/local/lib/python3.11/dist-packages (from dwave-cloud-client==0.13.4->dwave-ocean-sdk) (3.1.3)\n",
            "Requirement already satisfied: typing-extensions<5,>=4.5.0 in /usr/local/lib/python3.11/dist-packages (from dwave-cloud-client==0.13.4->dwave-ocean-sdk) (4.13.2)\n",
            "Collecting authlib<2,>=1.2 (from dwave-cloud-client==0.13.4->dwave-ocean-sdk)\n",
            "  Downloading authlib-1.5.2-py2.py3-none-any.whl.metadata (3.9 kB)\n",
            "Requirement already satisfied: importlib_metadata>=5.0.0 in /usr/local/lib/python3.11/dist-packages (from dwave-cloud-client==0.13.4->dwave-ocean-sdk) (8.6.1)\n",
            "Requirement already satisfied: orjson>=3.10 in /usr/local/lib/python3.11/dist-packages (from dwave-cloud-client==0.13.4->dwave-ocean-sdk) (3.10.16)\n",
            "Requirement already satisfied: networkx in /usr/local/lib/python3.11/dist-packages (from dwave-hybrid==0.6.14->dwave-ocean-sdk) (3.4.2)\n",
            "Requirement already satisfied: Flask<4,>=2.2 in /usr/local/lib/python3.11/dist-packages (from dwave-inspector==0.5.3->dwave-ocean-sdk) (3.1.0)\n",
            "Requirement already satisfied: scipy>=1.7.3 in /usr/local/lib/python3.11/dist-packages (from dwave-system==1.30.0->dwave-ocean-sdk) (1.14.1)\n",
            "Collecting fasteners>=0.15 (from minorminer==0.2.18->dwave-ocean-sdk)\n",
            "  Downloading fasteners-0.19-py3-none-any.whl.metadata (4.9 kB)\n",
            "Requirement already satisfied: cryptography in /usr/local/lib/python3.11/dist-packages (from authlib<2,>=1.2->dwave-cloud-client==0.13.4->dwave-ocean-sdk) (43.0.3)\n",
            "Requirement already satisfied: Jinja2>=3.1.2 in /usr/local/lib/python3.11/dist-packages (from Flask<4,>=2.2->dwave-inspector==0.5.3->dwave-ocean-sdk) (3.1.6)\n",
            "Requirement already satisfied: itsdangerous>=2.2 in /usr/local/lib/python3.11/dist-packages (from Flask<4,>=2.2->dwave-inspector==0.5.3->dwave-ocean-sdk) (2.2.0)\n",
            "Requirement already satisfied: blinker>=1.9 in /usr/local/lib/python3.11/dist-packages (from Flask<4,>=2.2->dwave-inspector==0.5.3->dwave-ocean-sdk) (1.9.0)\n",
            "Requirement already satisfied: zipp>=3.20 in /usr/local/lib/python3.11/dist-packages (from importlib_metadata>=5.0.0->dwave-cloud-client==0.13.4->dwave-ocean-sdk) (3.21.0)\n",
            "Requirement already satisfied: annotated-types>=0.6.0 in /usr/local/lib/python3.11/dist-packages (from pydantic<3,>=2->dwave-cloud-client==0.13.4->dwave-ocean-sdk) (0.7.0)\n",
            "Requirement already satisfied: pydantic-core==2.33.1 in /usr/local/lib/python3.11/dist-packages (from pydantic<3,>=2->dwave-cloud-client==0.13.4->dwave-ocean-sdk) (2.33.1)\n",
            "Requirement already satisfied: typing-inspection>=0.4.0 in /usr/local/lib/python3.11/dist-packages (from pydantic<3,>=2->dwave-cloud-client==0.13.4->dwave-ocean-sdk) (0.4.0)\n",
            "Requirement already satisfied: six>=1.5 in /usr/local/lib/python3.11/dist-packages (from python-dateutil<3,>=2.7->dwave-cloud-client==0.13.4->dwave-ocean-sdk) (1.17.0)\n",
            "Requirement already satisfied: charset-normalizer<4,>=2 in /usr/local/lib/python3.11/dist-packages (from requests<3,>=2.25->requests[socks]<3,>=2.25->dwave-cloud-client==0.13.4->dwave-ocean-sdk) (3.4.1)\n",
            "Requirement already satisfied: idna<4,>=2.5 in /usr/local/lib/python3.11/dist-packages (from requests<3,>=2.25->requests[socks]<3,>=2.25->dwave-cloud-client==0.13.4->dwave-ocean-sdk) (3.10)\n",
            "Requirement already satisfied: certifi>=2017.4.17 in /usr/local/lib/python3.11/dist-packages (from requests<3,>=2.25->requests[socks]<3,>=2.25->dwave-cloud-client==0.13.4->dwave-ocean-sdk) (2025.1.31)\n",
            "Requirement already satisfied: PySocks!=1.5.7,>=1.5.6 in /usr/local/lib/python3.11/dist-packages (from requests[socks]<3,>=2.25->dwave-cloud-client==0.13.4->dwave-ocean-sdk) (1.7.1)\n",
            "Requirement already satisfied: MarkupSafe>=2.1.1 in /usr/local/lib/python3.11/dist-packages (from werkzeug<4,>=2.2->dwave-cloud-client==0.13.4->dwave-ocean-sdk) (3.0.2)\n",
            "Requirement already satisfied: cffi>=1.12 in /usr/local/lib/python3.11/dist-packages (from cryptography->authlib<2,>=1.2->dwave-cloud-client==0.13.4->dwave-ocean-sdk) (1.17.1)\n",
            "Requirement already satisfied: pycparser in /usr/local/lib/python3.11/dist-packages (from cffi>=1.12->cryptography->authlib<2,>=1.2->dwave-cloud-client==0.13.4->dwave-ocean-sdk) (2.22)\n",
            "Downloading dwave_ocean_sdk-8.3.0-py3-none-any.whl (8.4 kB)\n",
            "Downloading dwave_cloud_client-0.13.4-py3-none-any.whl (160 kB)\n",
            "\u001b[2K   \u001b[90m━━━━━━━━━━━━━━━━━━━━━━━━━━━━━━━━━━━━━━━━\u001b[0m \u001b[32m160.8/160.8 kB\u001b[0m \u001b[31m7.5 MB/s\u001b[0m eta \u001b[36m0:00:00\u001b[0m\n",
            "\u001b[?25hDownloading dwave_gate-0.3.3-cp311-cp311-manylinux_2_17_x86_64.manylinux2014_x86_64.whl (1.6 MB)\n",
            "\u001b[2K   \u001b[90m━━━━━━━━━━━━━━━━━━━━━━━━━━━━━━━━━━━━━━━━\u001b[0m \u001b[32m1.6/1.6 MB\u001b[0m \u001b[31m43.4 MB/s\u001b[0m eta \u001b[36m0:00:00\u001b[0m\n",
            "\u001b[?25hDownloading dwave_hybrid-0.6.14-py3-none-any.whl (78 kB)\n",
            "\u001b[2K   \u001b[90m━━━━━━━━━━━━━━━━━━━━━━━━━━━━━━━━━━━━━━━━\u001b[0m \u001b[32m78.3/78.3 kB\u001b[0m \u001b[31m6.7 MB/s\u001b[0m eta \u001b[36m0:00:00\u001b[0m\n",
            "\u001b[?25hDownloading dwave_inspector-0.5.3-py3-none-any.whl (30 kB)\n",
            "Downloading dwave_networkx-0.8.17-py3-none-any.whl (103 kB)\n",
            "\u001b[2K   \u001b[90m━━━━━━━━━━━━━━━━━━━━━━━━━━━━━━━━━━━━━━━━\u001b[0m \u001b[32m103.7/103.7 kB\u001b[0m \u001b[31m10.3 MB/s\u001b[0m eta \u001b[36m0:00:00\u001b[0m\n",
            "\u001b[?25hDownloading dwave_optimization-0.6.0-cp311-cp311-manylinux_2_24_x86_64.manylinux_2_28_x86_64.whl (3.4 MB)\n",
            "\u001b[2K   \u001b[90m━━━━━━━━━━━━━━━━━━━━━━━━━━━━━━━━━━━━━━━━\u001b[0m \u001b[32m3.4/3.4 MB\u001b[0m \u001b[31m20.3 MB/s\u001b[0m eta \u001b[36m0:00:00\u001b[0m\n",
            "\u001b[?25hDownloading dwave_preprocessing-0.6.8-cp311-cp311-manylinux_2_17_x86_64.manylinux2014_x86_64.whl (3.4 MB)\n",
            "\u001b[2K   \u001b[90m━━━━━━━━━━━━━━━━━━━━━━━━━━━━━━━━━━━━━━━━\u001b[0m \u001b[32m3.4/3.4 MB\u001b[0m \u001b[31m69.3 MB/s\u001b[0m eta \u001b[36m0:00:00\u001b[0m\n",
            "\u001b[?25hDownloading dwave_system-1.30.0-py3-none-any.whl (106 kB)\n",
            "\u001b[2K   \u001b[90m━━━━━━━━━━━━━━━━━━━━━━━━━━━━━━━━━━━━━━━━\u001b[0m \u001b[32m106.9/106.9 kB\u001b[0m \u001b[31m10.0 MB/s\u001b[0m eta \u001b[36m0:00:00\u001b[0m\n",
            "\u001b[?25hDownloading dwavebinarycsp-0.3.1-py3-none-any.whl (35 kB)\n",
            "Downloading minorminer-0.2.18-cp311-cp311-manylinux_2_24_x86_64.manylinux_2_28_x86_64.whl (3.9 MB)\n",
            "\u001b[2K   \u001b[90m━━━━━━━━━━━━━━━━━━━━━━━━━━━━━━━━━━━━━━━━\u001b[0m \u001b[32m3.9/3.9 MB\u001b[0m \u001b[31m92.0 MB/s\u001b[0m eta \u001b[36m0:00:00\u001b[0m\n",
            "\u001b[?25hDownloading penaltymodel-1.2.0-py3-none-any.whl (36 kB)\n",
            "Downloading authlib-1.5.2-py2.py3-none-any.whl (232 kB)\n",
            "\u001b[2K   \u001b[90m━━━━━━━━━━━━━━━━━━━━━━━━━━━━━━━━━━━━━━━━\u001b[0m \u001b[32m232.1/232.1 kB\u001b[0m \u001b[31m19.5 MB/s\u001b[0m eta \u001b[36m0:00:00\u001b[0m\n",
            "\u001b[?25hDownloading diskcache-5.6.3-py3-none-any.whl (45 kB)\n",
            "\u001b[2K   \u001b[90m━━━━━━━━━━━━━━━━━━━━━━━━━━━━━━━━━━━━━━━━\u001b[0m \u001b[32m45.5/45.5 kB\u001b[0m \u001b[31m3.4 MB/s\u001b[0m eta \u001b[36m0:00:00\u001b[0m\n",
            "\u001b[?25hDownloading fasteners-0.19-py3-none-any.whl (18 kB)\n",
            "Downloading homebase-1.0.1-py2.py3-none-any.whl (11 kB)\n",
            "Downloading plucky-0.4.3-py2.py3-none-any.whl (10 kB)\n",
            "Installing collected packages: plucky, homebase, fasteners, dwave-optimization, dwave-gate, diskcache, penaltymodel, dwave-preprocessing, dwave-networkx, minorminer, dwavebinarycsp, authlib, dwave-cloud-client, dwave-system, dwave-inspector, dwave-hybrid, dwave-ocean-sdk\n",
            "Successfully installed authlib-1.5.2 diskcache-5.6.3 dwave-cloud-client-0.13.4 dwave-gate-0.3.3 dwave-hybrid-0.6.14 dwave-inspector-0.5.3 dwave-networkx-0.8.17 dwave-ocean-sdk-8.3.0 dwave-optimization-0.6.0 dwave-preprocessing-0.6.8 dwave-system-1.30.0 dwavebinarycsp-0.3.1 fasteners-0.19 homebase-1.0.1 minorminer-0.2.18 penaltymodel-1.2.0 plucky-0.4.3\n"
          ]
        },
        {
          "output_type": "display_data",
          "data": {
            "application/vnd.colab-display-data+json": {
              "pip_warning": {
                "packages": [
                  "dwave"
                ]
              },
              "id": "7851061a15e944ab9be89cc08285fc91"
            }
          },
          "metadata": {}
        }
      ]
    },
    {
      "cell_type": "code",
      "source": [
        "import qiskit\n",
        "qiskit.__version__"
      ],
      "metadata": {
        "colab": {
          "base_uri": "https://localhost:8080/",
          "height": 35
        },
        "id": "0J6NZhjclyD5",
        "outputId": "99d79ac3-6262-41ef-d000-360e37c3ae6e"
      },
      "execution_count": 1,
      "outputs": [
        {
          "output_type": "execute_result",
          "data": {
            "text/plain": [
              "'1.3.0'"
            ],
            "application/vnd.google.colaboratory.intrinsic+json": {
              "type": "string"
            }
          },
          "metadata": {},
          "execution_count": 1
        }
      ]
    },
    {
      "cell_type": "code",
      "source": [
        "#importing the required stuff\n",
        "from qiskit_aer import Aer, AerSimulator\n",
        "# from qiskit.algorithms import VQE, QAOA, NumPyMinimumEigensolver\n",
        "# from qiskit.algorithms.minimum_eigensolvers import NumPyMinimumEigensolver, QAOA, SamplingVQE\n",
        "\n",
        "# from qiskit.algorithms.optimizers import COBYLA, SPSA\n",
        "from qiskit.circuit.library import TwoLocal\n",
        "from qiskit import *\n",
        "from qiskit_finance.data_providers import *\n",
        "from qiskit_finance import QiskitFinanceError\n",
        "# from qiskit_optimization.algorithms import MinimumEigenOptimizer\n",
        "# from qiskit_optimization.applications import OptimizationApplication\n",
        "from qiskit_optimization.converters import QuadraticProgramToQubo\n",
        "import numpy as np\n",
        "import matplotlib.pyplot as plt\n",
        "from qiskit_aer.primitives import Sampler\n",
        "\n",
        "import datetime\n",
        "import pandas as pd\n",
        "from pandas.plotting import register_matplotlib_converters\n",
        "register_matplotlib_converters()\n",
        "import csv\n",
        "import yfinance as yf\n",
        "import pandas_datareader.data as web\n",
        "# from qiskit_finance.applications.optimization import PortfolioDiversification\n",
        "from qiskit_finance.applications.optimization import PortfolioOptimization"
      ],
      "metadata": {
        "id": "iBVb6Q11TFcU"
      },
      "execution_count": 4,
      "outputs": []
    },
    {
      "cell_type": "code",
      "source": [
        "# assets = [\"AAPL\", \"GS\", \"JPM\", \"MSFT\", \"MCD\", \"WMT\"]\n",
        "#DOW30 DATASET\n",
        "assets = ['AAPL','AXP','BA','CAT', 'CSCO','CVX','DD','DIS', 'GE','GS' ] #,'HD', 'IBM' ] #, 'INTC', 'JNJ', 'JPM','KO', 'MCD','MMM','MRK','MSFT','NKE','PFE', 'PG', 'T', 'TRV', 'UNH', 'V', 'VZ','WMT', 'XOM']\n",
        "len(assets)\n",
        "\n",
        "# Using data from yahoo finance\n",
        "# use the name listed for particular company that you wish to add\n",
        "\n",
        "start_date = \"2016-01-01\"\n",
        "end_date = \"2022-12-31\"\n",
        "\n",
        "stocks_data_csv= yf.download(assets, start = start_date, end = end_date)['Close']\n",
        "stocks_data_csv.to_csv(\"Stocks_data.csv\")"
      ],
      "metadata": {
        "colab": {
          "base_uri": "https://localhost:8080/"
        },
        "id": "1U0xA35fTN2C",
        "outputId": "c1f499a2-a97b-4acd-b8e0-728915144e5c"
      },
      "execution_count": 5,
      "outputs": [
        {
          "output_type": "stream",
          "name": "stdout",
          "text": [
            "YF.download() has changed argument auto_adjust default to True\n"
          ]
        },
        {
          "output_type": "stream",
          "name": "stderr",
          "text": [
            "[*********************100%***********************]  10 of 10 completed\n"
          ]
        }
      ]
    },
    {
      "cell_type": "code",
      "source": [
        "read_stocks_data = pd.read_csv(\"Stocks_data.csv\", index_col=False)\n",
        "stocks_data = read_stocks_data.drop(['Date'], axis=1)"
      ],
      "metadata": {
        "id": "IdE69Up0Tulc"
      },
      "execution_count": 6,
      "outputs": []
    },
    {
      "cell_type": "code",
      "source": [
        "log_return = np.log(stocks_data/stocks_data.shift(1))\n",
        "\n",
        "trading_days = 252\n",
        "\n",
        "\n",
        "num_assets = len(assets)\n",
        "mu = log_return.mean()*trading_days\n",
        "sigma = log_return.cov()*trading_days\n",
        "sigma = np.array(sigma)\n",
        "mu = np.array(mu)\n",
        "print(mu)\n",
        "print(sigma)"
      ],
      "metadata": {
        "id": "8XJ6crVZTQFz",
        "colab": {
          "base_uri": "https://localhost:8080/"
        },
        "outputId": "25fe287b-3bbb-41aa-ac16-f231c6d4ec44"
      },
      "execution_count": 7,
      "outputs": [
        {
          "output_type": "stream",
          "name": "stdout",
          "text": [
            "[ 0.24102516  0.12713877  0.05914019  0.20796767  0.1148893   0.14381101\n",
            "  0.01820195 -0.01599691 -0.1328086   0.11321675]\n",
            "[[0.09239516 0.04507567 0.05772786 0.03854428 0.04638286 0.0351825\n",
            "  0.04345083 0.04064521 0.04086914 0.04703448]\n",
            " [0.04507567 0.10978968 0.09331722 0.0588185  0.04483867 0.06419551\n",
            "  0.06415341 0.05842314 0.07002759 0.07254855]\n",
            " [0.05772786 0.09331722 0.19863164 0.07194939 0.04903669 0.07751777\n",
            "  0.07443718 0.06763219 0.09535676 0.07918482]\n",
            " [0.03854428 0.0588185  0.07194939 0.09644269 0.04138223 0.05861906\n",
            "  0.06184408 0.0431964  0.06173727 0.06000675]\n",
            " [0.04638286 0.04483867 0.04903669 0.04138223 0.07183251 0.03721958\n",
            "  0.04196934 0.03889444 0.04135102 0.04278928]\n",
            " [0.0351825  0.06419551 0.07751777 0.05861906 0.03721958 0.10278099\n",
            "  0.05635211 0.04305479 0.06250256 0.05819361]\n",
            " [0.04345083 0.06415341 0.07443718 0.06184408 0.04196934 0.05635211\n",
            "  0.1022832  0.04487753 0.06136577 0.06080266]\n",
            " [0.04064521 0.05842314 0.06763219 0.0431964  0.03889444 0.04305479\n",
            "  0.04487753 0.08359891 0.05052662 0.05102361]\n",
            " [0.04086914 0.07002759 0.09535676 0.06173727 0.04135102 0.06250256\n",
            "  0.06136577 0.05052662 0.14629117 0.06495346]\n",
            " [0.04703448 0.07254855 0.07918482 0.06000675 0.04278928 0.05819361\n",
            "  0.06080266 0.05102361 0.06495346 0.0938856 ]]\n"
          ]
        }
      ]
    },
    {
      "cell_type": "code",
      "source": [
        "q = 0.5 # set risk factor\n",
        "budget = num_assets // 2 # set budget\n",
        "# penalty = 10  # set parameter to scale the budget penalty term\n",
        "\n",
        "portfolio = PortfolioOptimization(\n",
        "    expected_returns=mu, covariances=sigma, risk_factor=q, budget=budget,\n",
        ")\n",
        "qp_qiskit = portfolio.to_quadratic_program()\n",
        "print(qp_qiskit)"
      ],
      "metadata": {
        "id": "OeVdD8ysTYnw",
        "colab": {
          "base_uri": "https://localhost:8080/"
        },
        "outputId": "115ad02d-3903-47f5-a94a-1c450ad4b94c"
      },
      "execution_count": 8,
      "outputs": [
        {
          "output_type": "stream",
          "name": "stdout",
          "text": [
            "minimize 0.046197579270526055*x_0^2 + 0.04507566779554689*x_0*x_1 + 0.05772786357349736*x_0*x_2 + 0.038544277625809246*x_0*x_3 + 0.04638285679809044*x_0*x_4 + 0.03518250110518967*x_0*x_5 + 0.04345082534386053*x_0*x_6 + 0.04064521188257017*x_0*x_7 + 0.040869139478660686*x_0*x_8 + 0.0470344821665212*x_0*x_9 + 0.0548948399034895*x_1^2 + 0.09331721755666364*x_1*x_2 + 0.05881849502849362*x_1*x_3 + 0.0448386684448789*x_1*x_4 + 0.06419550988572267*x_1*x_5 + 0.06415341080584544*x_1*x_6 + 0.05842313742037009*x_1*x_7 + 0.07002758643833*x_1*x_8 + 0.07254854508068653*x_1*x_9 + 0.09931582127775011*x_2^2 + 0.07194938697212624*x_2*x_3 + 0.04903668644286675*x_2*x_4 + 0.07751776656371925*x_2*x_5 + 0.07443718398173893*x_2*x_6 + 0.06763218661287905*x_2*x_7 + 0.09535676411318353*x_2*x_8 + 0.07918482337716014*x_2*x_9 + 0.04822134546667979*x_3^2 + 0.04138222932367523*x_3*x_4 + 0.058619057964304444*x_3*x_5 + 0.061844083668815095*x_3*x_6 + 0.04319639583887429*x_3*x_7 + 0.06173726772186551*x_3*x_8 + 0.060006745190412596*x_3*x_9 + 0.03591625409730081*x_4^2 + 0.03721957658686751*x_4*x_5 + 0.041969340079907776*x_4*x_6 + 0.03889444296364367*x_4*x_7 + 0.04135102427612645*x_4*x_8 + 0.04278927599530985*x_4*x_9 + 0.05139049626932474*x_5^2 + 0.05635211362806137*x_5*x_6 + 0.04305478949143126*x_5*x_7 + 0.06250256022695315*x_5*x_8 + 0.05819360785349125*x_5*x_9 + 0.05114160144629229*x_6^2 + 0.044877534410753206*x_6*x_7 + 0.061365773801611984*x_6*x_8 + 0.060802656200052436*x_6*x_9 + 0.04179945331526411*x_7^2 + 0.05052662056088165*x_7*x_8 + 0.05102361249922681*x_7*x_9 + 0.07314558743125513*x_8^2 + 0.06495346294509018*x_8*x_9 + 0.04694280142779339*x_9^2 - 0.24102515644880987*x_0 - 0.1271387745902563*x_1 - 0.059140186184559684*x_2 - 0.2079676713952109*x_3 - 0.11488929971371271*x_4 - 0.14381101035475877*x_5 - 0.0182019482791197*x_6 + 0.01599691253054098*x_7 + 0.1328086010212285*x_8 - 0.11321675071673062*x_9 (10 variables, 1 constraints, 'Portfolio optimization')\n"
          ]
        }
      ]
    },
    {
      "cell_type": "code",
      "source": [
        "###  this should be used in this case as it does supports the constraints and converts th quadraic program to qubo...\n",
        "\n",
        "from qiskit_optimization.converters import QuadraticProgramToQubo\n",
        "\n",
        "qp2qubo = QuadraticProgramToQubo()\n",
        "qubo = qp2qubo.convert(qp_qiskit)\n",
        "print(qubo.prettyprint())\n",
        "op, offset = qubo.to_ising()\n",
        "print(\"offfset is \", offset)\n",
        "op"
      ],
      "metadata": {
        "colab": {
          "base_uri": "https://localhost:8080/"
        },
        "id": "gi9XvrxxTfOX",
        "outputId": "3fdba8cb-def2-40d3-d081-7e66ace36dce"
      },
      "execution_count": 9,
      "outputs": [
        {
          "output_type": "stream",
          "name": "stdout",
          "text": [
            "Problem name: Portfolio optimization\n",
            "\n",
            "Minimize\n",
            "  5.2883720361328965*x_0^2 + 10.529424581520288*x_0*x_1\n",
            "  + 10.542076777298238*x_0*x_2 + 10.522893191350551*x_0*x_3\n",
            "  + 10.53073177052283*x_0*x_4 + 10.519531414829931*x_0*x_5\n",
            "  + 10.527799739068602*x_0*x_6 + 10.52499412560731*x_0*x_7\n",
            "  + 10.525218053203401*x_0*x_8 + 10.531383395891261*x_0*x_9\n",
            "  + 5.29706929676586*x_1^2 + 10.577666131281404*x_1*x_2\n",
            "  + 10.543167408753234*x_1*x_3 + 10.52918758216962*x_1*x_4\n",
            "  + 10.548544423610464*x_1*x_5 + 10.548502324530586*x_1*x_6\n",
            "  + 10.54277205114511*x_1*x_7 + 10.554376500163071*x_1*x_8\n",
            "  + 10.556897458805427*x_1*x_9 + 5.341490278140121*x_2^2\n",
            "  + 10.556298300696866*x_2*x_3 + 10.533385600167609*x_2*x_4\n",
            "  + 10.56186668028846*x_2*x_5 + 10.55878609770648*x_2*x_6\n",
            "  + 10.55198110033762*x_2*x_7 + 10.579705677837925*x_2*x_8\n",
            "  + 10.563533737101901*x_2*x_9 + 5.2903958023290505*x_3^2\n",
            "  + 10.525731143048416*x_3*x_4 + 10.542967971689045*x_3*x_5\n",
            "  + 10.546192997393556*x_3*x_6 + 10.527545309563616*x_3*x_7\n",
            "  + 10.546086181446608*x_3*x_8 + 10.544355658915155*x_3*x_9\n",
            "  + 5.278090710959671*x_4^2 + 10.521568490311608*x_4*x_5\n",
            "  + 10.52631825380465*x_4*x_6 + 10.523243356688385*x_4*x_7\n",
            "  + 10.525699938000868*x_4*x_8 + 10.527138189720052*x_4*x_9\n",
            "  + 5.293564953131695*x_5^2 + 10.540701027352803*x_5*x_6\n",
            "  + 10.527403703216173*x_5*x_7 + 10.546851473951694*x_5*x_8\n",
            "  + 10.542542521578232*x_5*x_9 + 5.293316058308663*x_6^2\n",
            "  + 10.529226448135494*x_6*x_7 + 10.545714687526353*x_6*x_8\n",
            "  + 10.545151569924794*x_6*x_9 + 5.283973910177634*x_7^2\n",
            "  + 10.534875534285622*x_7*x_8 + 10.535372526223968*x_7*x_9\n",
            "  + 5.3153200442936255*x_8^2 + 10.549302376669832*x_8*x_9\n",
            "  + 5.2891172582901635*x_9^2 - 52.662769725072515*x_0 - 52.548883343213966*x_1\n",
            "  - 52.480884754808265*x_2 - 52.62971224001892*x_3 - 52.53663386833742*x_4\n",
            "  - 52.56555557897847*x_5 - 52.43994651690283*x_6 - 52.40574765609317*x_7\n",
            "  - 52.28893596760248*x_8 - 52.53496131934044*x_9 + 131.05436142155926\n",
            "\n",
            "Subject to\n",
            "  No constraints\n",
            "\n",
            "  Binary variables (10)\n",
            "    x_0 x_1 x_2 x_3 x_4 x_5 x_6 x_7 x_8 x_9\n",
            "\n",
            "offfset is  13.571379481473471\n"
          ]
        },
        {
          "output_type": "execute_result",
          "data": {
            "text/plain": [
              "SparsePauliOp(['IIIIIIIIIZ', 'IIIIIIIIZI', 'IIIIIIIZII', 'IIIIIIZIII', 'IIIIIZIIII', 'IIIIZIIIII', 'IIIZIIIIII', 'IIZIIIIIII', 'IZIIIIIIII', 'ZIIIIIIIII', 'IIIIIIIIZZ', 'IIIIIIIZIZ', 'IIIIIIZIIZ', 'IIIIIZIIIZ', 'IIIIZIIIIZ', 'IIIZIIIIIZ', 'IIZIIIIIIZ', 'IZIIIIIIIZ', 'ZIIIIIIIIZ', 'IIIIIIIZZI', 'IIIIIIZIZI', 'IIIIIZIIZI', 'IIIIZIIIZI', 'IIIZIIIIZI', 'IIZIIIIIZI', 'IZIIIIIIZI', 'ZIIIIIIIZI', 'IIIIIIZZII', 'IIIIIZIZII', 'IIIIZIIZII', 'IIIZIIIZII', 'IIZIIIIZII', 'IZIIIIIZII', 'ZIIIIIIZII', 'IIIIIZZIII', 'IIIIZIZIII', 'IIIZIIZIII', 'IIZIIIZIII', 'IZIIIIZIII', 'ZIIIIIZIII', 'IIIIZZIIII', 'IIIZIZIIII', 'IIZIIZIIII', 'IZIIIZIIII', 'ZIIIIZIIII', 'IIIZZIIIII', 'IIZIZIIIII', 'IZIIZIIIII', 'ZIIIZIIIII', 'IIZZIIIIII', 'IZIZIIIIII', 'ZIIZIIIIII', 'IZZIIIIIII', 'ZIZIIIIIII', 'ZZIIIIIIII'],\n",
              "              coeffs=[-1.31441785e-03+0.j, -1.06727592e-01+0.j, -1.86627787e-01+0.j,\n",
              " -4.41513219e-02+0.j, -5.64795024e-02+0.j, -7.69991138e-02+0.j,\n",
              " -1.43783057e-01+0.j, -1.38466666e-01+0.j, -2.40149644e-01+0.j,\n",
              " -1.00997328e-01+0.j,  2.63235615e+00+0.j,  2.63551919e+00+0.j,\n",
              "  2.63072330e+00+0.j,  2.63268294e+00+0.j,  2.62988285e+00+0.j,\n",
              "  2.63194993e+00+0.j,  2.63124853e+00+0.j,  2.63130451e+00+0.j,\n",
              "  2.63284585e+00+0.j,  2.64441653e+00+0.j,  2.63579185e+00+0.j,\n",
              "  2.63229690e+00+0.j,  2.63713611e+00+0.j,  2.63712558e+00+0.j,\n",
              "  2.63569301e+00+0.j,  2.63859413e+00+0.j,  2.63922436e+00+0.j,\n",
              "  2.63907458e+00+0.j,  2.63334640e+00+0.j,  2.64046667e+00+0.j,\n",
              "  2.63969652e+00+0.j,  2.63799528e+00+0.j,  2.64492642e+00+0.j,\n",
              "  2.64088343e+00+0.j,  2.63143279e+00+0.j,  2.63574199e+00+0.j,\n",
              "  2.63654825e+00+0.j,  2.63188633e+00+0.j,  2.63652155e+00+0.j,\n",
              "  2.63608891e+00+0.j,  2.63039212e+00+0.j,  2.63157956e+00+0.j,\n",
              "  2.63081084e+00+0.j,  2.63142498e+00+0.j,  2.63178455e+00+0.j,\n",
              "  2.63517526e+00+0.j,  2.63185093e+00+0.j,  2.63671287e+00+0.j,\n",
              "  2.63563563e+00+0.j,  2.63230661e+00+0.j,  2.63642867e+00+0.j,\n",
              "  2.63628789e+00+0.j,  2.63371888e+00+0.j,  2.63384313e+00+0.j,\n",
              "  2.63732559e+00+0.j])"
            ]
          },
          "metadata": {},
          "execution_count": 9
        }
      ]
    },
    {
      "cell_type": "code",
      "source": [
        "from dwave.system import DWaveSampler, EmbeddingComposite\n",
        "import dimod\n",
        "\n",
        "bqm_qubo = dimod.as_bqm(qubo.objective.linear.to_array(), qubo.objective.quadratic.to_array(), dimod.BINARY)\n",
        "bqm_qubo = bqm_qubo.to_qubo()\n",
        "bqm_qubo"
      ],
      "metadata": {
        "colab": {
          "base_uri": "https://localhost:8080/"
        },
        "id": "7Jg0fTe3T2PO",
        "outputId": "5f6a1ac5-becb-4743-ad02-c829cc14f28a"
      },
      "execution_count": 10,
      "outputs": [
        {
          "output_type": "execute_result",
          "data": {
            "text/plain": [
              "({(1, 0): np.float64(10.529424581520288),\n",
              "  (2, 0): np.float64(10.542076777298238),\n",
              "  (2, 1): np.float64(10.577666131281404),\n",
              "  (3, 0): np.float64(10.522893191350551),\n",
              "  (3, 1): np.float64(10.543167408753234),\n",
              "  (3, 2): np.float64(10.556298300696866),\n",
              "  (4, 0): np.float64(10.53073177052283),\n",
              "  (4, 1): np.float64(10.52918758216962),\n",
              "  (4, 2): np.float64(10.533385600167609),\n",
              "  (4, 3): np.float64(10.525731143048416),\n",
              "  (5, 0): np.float64(10.519531414829931),\n",
              "  (5, 1): np.float64(10.548544423610464),\n",
              "  (5, 2): np.float64(10.56186668028846),\n",
              "  (5, 3): np.float64(10.542967971689045),\n",
              "  (5, 4): np.float64(10.521568490311608),\n",
              "  (6, 0): np.float64(10.527799739068602),\n",
              "  (6, 1): np.float64(10.548502324530586),\n",
              "  (6, 2): np.float64(10.55878609770648),\n",
              "  (6, 3): np.float64(10.546192997393556),\n",
              "  (6, 4): np.float64(10.52631825380465),\n",
              "  (6, 5): np.float64(10.540701027352803),\n",
              "  (7, 0): np.float64(10.52499412560731),\n",
              "  (7, 1): np.float64(10.54277205114511),\n",
              "  (7, 2): np.float64(10.55198110033762),\n",
              "  (7, 3): np.float64(10.527545309563616),\n",
              "  (7, 4): np.float64(10.523243356688385),\n",
              "  (7, 5): np.float64(10.527403703216173),\n",
              "  (7, 6): np.float64(10.529226448135494),\n",
              "  (8, 0): np.float64(10.525218053203401),\n",
              "  (8, 1): np.float64(10.554376500163071),\n",
              "  (8, 2): np.float64(10.579705677837925),\n",
              "  (8, 3): np.float64(10.546086181446608),\n",
              "  (8, 4): np.float64(10.525699938000868),\n",
              "  (8, 5): np.float64(10.546851473951694),\n",
              "  (8, 6): np.float64(10.545714687526353),\n",
              "  (8, 7): np.float64(10.534875534285622),\n",
              "  (9, 0): np.float64(10.531383395891261),\n",
              "  (9, 1): np.float64(10.556897458805427),\n",
              "  (9, 2): np.float64(10.563533737101901),\n",
              "  (9, 3): np.float64(10.544355658915155),\n",
              "  (9, 4): np.float64(10.527138189720052),\n",
              "  (9, 5): np.float64(10.542542521578232),\n",
              "  (9, 6): np.float64(10.545151569924794),\n",
              "  (9, 7): np.float64(10.535372526223968),\n",
              "  (9, 8): np.float64(10.549302376669832),\n",
              "  (0, 0): np.float64(-47.37439768893962),\n",
              "  (1, 1): np.float64(-47.251814046448104),\n",
              "  (2, 2): np.float64(-47.139394476668144),\n",
              "  (3, 3): np.float64(-47.33931643768987),\n",
              "  (4, 4): np.float64(-47.258543157377744),\n",
              "  (5, 5): np.float64(-47.271990625846776),\n",
              "  (6, 6): np.float64(-47.14663045859417),\n",
              "  (7, 7): np.float64(-47.12177374591553),\n",
              "  (8, 8): np.float64(-46.97361592330885),\n",
              "  (9, 9): np.float64(-47.24584406105028)},\n",
              " np.float64(0.0))"
            ]
          },
          "metadata": {},
          "execution_count": 10
        }
      ]
    },
    {
      "cell_type": "code",
      "source": [
        "bqm_qubo_dict = bqm_qubo[0] if isinstance(bqm_qubo, tuple) else bqm_qubo\n",
        "bqm_qubo_dict\n",
        "# Verify the type\n",
        "print(type(bqm_qubo_dict))  # Output: <class 'dict'>\n",
        "print(len(bqm_qubo_dict))"
      ],
      "metadata": {
        "id": "HWJKHR6XUBU9",
        "colab": {
          "base_uri": "https://localhost:8080/"
        },
        "outputId": "4b72f920-5117-412a-f5b7-e9a1c43cbb97"
      },
      "execution_count": 11,
      "outputs": [
        {
          "output_type": "stream",
          "name": "stdout",
          "text": [
            "<class 'dict'>\n",
            "55\n"
          ]
        }
      ]
    },
    {
      "cell_type": "markdown",
      "source": [],
      "metadata": {
        "id": "BdodPcycYfE2"
      }
    },
    {
      "cell_type": "code",
      "source": [
        "from math import isclose\n",
        "from typing import Any, Dict, Optional, Tuple, cast\n",
        "from warnings import warn\n",
        "\n",
        "from docplex.mp.basic import Expr\n",
        "from docplex.mp.constants import ComparisonType\n",
        "from docplex.mp.constr import (\n",
        "    IndicatorConstraint,\n",
        "    LinearConstraint,\n",
        "    NotEqualConstraint,\n",
        "    QuadraticConstraint,\n",
        ")\n",
        "from docplex.mp.dvar import Var\n",
        "from docplex.mp.linear import AbstractLinearExpr\n",
        "from docplex.mp.model import Model\n",
        "from docplex.mp.quad import QuadExpr\n",
        "from docplex.mp.vartype import BinaryVarType, ContinuousVarType, IntegerVarType\n",
        "\n",
        "class OptimizationModel:\n",
        "    class Sense:\n",
        "        MINIMIZE = 0\n",
        "        MAXIMIZE = 1\n",
        "\n",
        "    class ConstraintSense:\n",
        "        LE = 0\n",
        "        GE = 1\n",
        "        EQ = 2\n",
        "\n",
        "class OptimizationVariable:\n",
        "    def __init__(self, name: str, vartype: int, lowerbound: float = 0.0, upperbound: float = None):\n",
        "        self.name = name\n",
        "        self.vartype = vartype\n",
        "        self.lowerbound = lowerbound\n",
        "        self.upperbound = upperbound\n",
        "\n",
        "class QuadraticProgram:\n",
        "    def __init__(self):\n",
        "        self.variables = []\n",
        "        self.objective = {\n",
        "            'linear': {},\n",
        "            'quadratic': {},\n",
        "            'constant': 0.0,\n",
        "            'sense': OptimizationModel.Sense.MINIMIZE\n",
        "        }\n",
        "        self.linear_constraints = []\n",
        "        self.quadratic_constraints = []\n",
        "\n",
        "def from_docplex_mp(quadratic_program: QuadraticProgram) -> Model:\n",
        "    mdl = Model(quadratic_program.name)\n",
        "    var = {}\n",
        "\n",
        "    # Variable conversion\n",
        "    for idx, x in enumerate(quadratic_program.variables):\n",
        "        if x.vartype == ContinuousVarType:\n",
        "            var[idx] = mdl.continuous_var(lb=x.lowerbound, ub=x.upperbound, name=x.name)\n",
        "        elif x.vartype == BinaryVarType:\n",
        "            var[idx] = mdl.binary_var(name=x.name)\n",
        "        elif x.vartype == IntegerVarType:\n",
        "            var[idx] = mdl.integer_var(lb=x.lowerbound, ub=x.upperbound, name=x.name)\n",
        "\n",
        "    # Objective construction\n",
        "    linear_part = mdl.sum(v * var[i] for i, v in quadratic_program.objective['linear'].items())\n",
        "    quadratic_part = mdl.sum(v * var[i] * var[j] for (i, j), v in quadratic_program.objective['quadratic'].items())\n",
        "    objective = quadratic_program.objective['constant'] + linear_part + quadratic_part\n",
        "\n",
        "    if quadratic_program.objective['sense'] == OptimizationModel.Sense.MINIMIZE:\n",
        "        mdl.minimize(objective)\n",
        "    else:\n",
        "        mdl.maximize(objective)\n",
        "\n",
        "    # Constraint handling\n",
        "    for constr in quadratic_program.linear_constraints:\n",
        "        linear_expr = mdl.sum(v * var[j] for j, v in constr['linear'].items())\n",
        "        rhs = constr['rhs']\n",
        "\n",
        "        if constr['sense'] == OptimizationModel.ConstraintSense.EQ:\n",
        "            mdl.add_constraint(linear_expr == rhs, ctname=constr.get('name', ''))\n",
        "        elif constr['sense'] == OptimizationModel.ConstraintSense.GE:\n",
        "            mdl.add_constraint(linear_expr >= rhs, ctname=constr.get('name', ''))\n",
        "        elif constr['sense'] == OptimizationModel.ConstraintSense.LE:\n",
        "            mdl.add_constraint(linear_expr <= rhs, ctname=constr.get('name', ''))\n",
        "\n",
        "    for constr in quadratic_program.quadratic_constraints:\n",
        "        quad_expr = (mdl.sum(v * var[j] for j, v in constr['linear'].items()) +\n",
        "                    mdl.sum(v * var[j] * var[k] for (j, k), v in constr['quadratic'].items()))\n",
        "\n",
        "        if constr['sense'] == OptimizationModel.ConstraintSense.EQ:\n",
        "            mdl.add_constraint(quad_expr == constr['rhs'], ctname=constr.get('name', ''))\n",
        "        elif constr['sense'] == OptimizationModel.ConstraintSense.GE:\n",
        "            mdl.add_constraint(quad_expr >= constr['rhs'], ctname=constr.get('name', ''))\n",
        "        elif constr['sense'] == OptimizationModel.ConstraintSense.LE:\n",
        "            mdl.add_constraint(quad_expr <= constr['rhs'], ctname=constr.get('name', ''))\n",
        "\n",
        "    return mdl\n"
      ],
      "metadata": {
        "id": "fuot2nr3DHE4"
      },
      "execution_count": 12,
      "outputs": []
    },
    {
      "cell_type": "code",
      "source": [
        "from typing import List, Tuple, Optional\n",
        "import numpy as np\n",
        "from docplex.mp.advmodel import AdvModel\n",
        "from qiskit_optimization.translators import from_docplex_mp\n",
        "# from\n",
        "\n",
        "class PortfolioFormulation:\n",
        "    def __init__(\n",
        "        self,\n",
        "        expected_returns: np.ndarray,\n",
        "        covariances: np.ndarray,\n",
        "        risk_factor: float,\n",
        "        budget: int,\n",
        "        bounds: Optional[List[Tuple[int, int]]] = None\n",
        "    ):\n",
        "        self._expected_returns = expected_returns\n",
        "        self._covariances = covariances\n",
        "        self._risk_factor = risk_factor\n",
        "        self._budget = budget\n",
        "        self._bounds = bounds\n",
        "        self._check_compatibility(bounds)\n",
        "\n",
        "    def build_model(self) -> AdvModel:\n",
        "        num_assets = len(self._expected_returns)\n",
        "        mdl = AdvModel(name=\"Portfolio Optimization\")\n",
        "\n",
        "        # Variable creation with corrected bounds reference\n",
        "        if self._bounds:\n",
        "            x = [\n",
        "                mdl.integer_var(lb=self._bounds[i][0],\n",
        "                              ub=self._bounds[i][1],\n",
        "                              name=f\"x_{i}\")\n",
        "                for i in range(num_assets)\n",
        "            ]\n",
        "        else:\n",
        "            x = [mdl.binary_var(name=f\"x_{i}\") for i in range(num_assets)]\n",
        "\n",
        "        # Quadratic risk term using explicit sum\n",
        "        quadratic_risk = mdl.sum(\n",
        "            self._covariances[i][j] * x[i] * x[j]\n",
        "            for i in range(num_assets)\n",
        "            for j in range(num_assets)\n",
        "        )\n",
        "\n",
        "        # Linear returns term\n",
        "        linear_returns = mdl.scal_prod(x, self._expected_returns)\n",
        "\n",
        "        # Objective function\n",
        "        mdl.minimize(self._risk_factor * quadratic_risk - linear_returns)\n",
        "\n",
        "        # Budget constraint\n",
        "        mdl.add_constraint(mdl.sum(x) == self._budget)\n",
        "\n",
        "        qp = from_docplex_mp(mdl)\n",
        "\n",
        "        return qp\n",
        "\n",
        "    # Maintain original analytics methods\n",
        "    def portfolio_expected_value(self, solution: np.ndarray) -> float:\n",
        "        return np.dot(self._expected_returns, solution)\n",
        "\n",
        "    def portfolio_variance(self, solution: np.ndarray) -> float:\n",
        "        return np.dot(solution, np.dot(self._covariances, solution))\n",
        "\n",
        "    # Preserve validation logic\n",
        "    def _check_compatibility(self, bounds):\n",
        "        # Original validation checks from Qiskit implementation\n",
        "        if len(self._expected_returns) != len(self._covariances):\n",
        "            raise ValueError(\"Mismatch between returns and covariances dimensions\")\n",
        "\n",
        "        if bounds and len(bounds) != len(self._expected_returns):\n",
        "            raise ValueError(\"Bounds/asset count mismatch\")\n",
        "\n",
        "    # Retain property accessors\n",
        "    @property\n",
        "    def expected_returns(self) -> np.ndarray:\n",
        "        return self._expected_returns\n",
        "\n",
        "    @property\n",
        "    def covariances(self) -> np.ndarray:\n",
        "        return self._covariances\n",
        "\n",
        "    @property\n",
        "    def risk_factor(self) -> float:\n",
        "        return self._risk_factor\n",
        "\n",
        "    @property\n",
        "    def budget(self) -> int:\n",
        "        return self._budget\n"
      ],
      "metadata": {
        "id": "ehb4k2fMuIEj"
      },
      "execution_count": 13,
      "outputs": []
    },
    {
      "cell_type": "code",
      "source": [],
      "metadata": {
        "id": "D1nXuNrXh-lt"
      },
      "execution_count": 13,
      "outputs": []
    },
    {
      "cell_type": "code",
      "source": [
        "!pip freeze > requirements.txt\n",
        "from google.colab import files\n",
        "files.download('requirements.txt')"
      ],
      "metadata": {
        "id": "EnunXcQch-wW",
        "colab": {
          "base_uri": "https://localhost:8080/",
          "height": 17
        },
        "outputId": "71d6b85c-7aed-4fc3-dfe4-fe2e08ee8a7c"
      },
      "execution_count": 14,
      "outputs": [
        {
          "output_type": "display_data",
          "data": {
            "text/plain": [
              "<IPython.core.display.Javascript object>"
            ],
            "application/javascript": [
              "\n",
              "    async function download(id, filename, size) {\n",
              "      if (!google.colab.kernel.accessAllowed) {\n",
              "        return;\n",
              "      }\n",
              "      const div = document.createElement('div');\n",
              "      const label = document.createElement('label');\n",
              "      label.textContent = `Downloading \"${filename}\": `;\n",
              "      div.appendChild(label);\n",
              "      const progress = document.createElement('progress');\n",
              "      progress.max = size;\n",
              "      div.appendChild(progress);\n",
              "      document.body.appendChild(div);\n",
              "\n",
              "      const buffers = [];\n",
              "      let downloaded = 0;\n",
              "\n",
              "      const channel = await google.colab.kernel.comms.open(id);\n",
              "      // Send a message to notify the kernel that we're ready.\n",
              "      channel.send({})\n",
              "\n",
              "      for await (const message of channel.messages) {\n",
              "        // Send a message to notify the kernel that we're ready.\n",
              "        channel.send({})\n",
              "        if (message.buffers) {\n",
              "          for (const buffer of message.buffers) {\n",
              "            buffers.push(buffer);\n",
              "            downloaded += buffer.byteLength;\n",
              "            progress.value = downloaded;\n",
              "          }\n",
              "        }\n",
              "      }\n",
              "      const blob = new Blob(buffers, {type: 'application/binary'});\n",
              "      const a = document.createElement('a');\n",
              "      a.href = window.URL.createObjectURL(blob);\n",
              "      a.download = filename;\n",
              "      div.appendChild(a);\n",
              "      a.click();\n",
              "      div.remove();\n",
              "    }\n",
              "  "
            ]
          },
          "metadata": {}
        },
        {
          "output_type": "display_data",
          "data": {
            "text/plain": [
              "<IPython.core.display.Javascript object>"
            ],
            "application/javascript": [
              "download(\"download_03aa8cec-570f-45d2-8508-fbb4cbc7886e\", \"requirements.txt\", 13128)"
            ]
          },
          "metadata": {}
        }
      ]
    },
    {
      "cell_type": "code",
      "source": [
        "print(qp_qiskit)"
      ],
      "metadata": {
        "colab": {
          "base_uri": "https://localhost:8080/"
        },
        "id": "RM53Vnbm90ba",
        "outputId": "ac5c8d10-7082-49b0-e045-ffcc347774de"
      },
      "execution_count": 15,
      "outputs": [
        {
          "output_type": "stream",
          "name": "stdout",
          "text": [
            "minimize 0.046197579270526055*x_0^2 + 0.04507566779554689*x_0*x_1 + 0.05772786357349736*x_0*x_2 + 0.038544277625809246*x_0*x_3 + 0.04638285679809044*x_0*x_4 + 0.03518250110518967*x_0*x_5 + 0.04345082534386053*x_0*x_6 + 0.04064521188257017*x_0*x_7 + 0.040869139478660686*x_0*x_8 + 0.0470344821665212*x_0*x_9 + 0.0548948399034895*x_1^2 + 0.09331721755666364*x_1*x_2 + 0.05881849502849362*x_1*x_3 + 0.0448386684448789*x_1*x_4 + 0.06419550988572267*x_1*x_5 + 0.06415341080584544*x_1*x_6 + 0.05842313742037009*x_1*x_7 + 0.07002758643833*x_1*x_8 + 0.07254854508068653*x_1*x_9 + 0.09931582127775011*x_2^2 + 0.07194938697212624*x_2*x_3 + 0.04903668644286675*x_2*x_4 + 0.07751776656371925*x_2*x_5 + 0.07443718398173893*x_2*x_6 + 0.06763218661287905*x_2*x_7 + 0.09535676411318353*x_2*x_8 + 0.07918482337716014*x_2*x_9 + 0.04822134546667979*x_3^2 + 0.04138222932367523*x_3*x_4 + 0.058619057964304444*x_3*x_5 + 0.061844083668815095*x_3*x_6 + 0.04319639583887429*x_3*x_7 + 0.06173726772186551*x_3*x_8 + 0.060006745190412596*x_3*x_9 + 0.03591625409730081*x_4^2 + 0.03721957658686751*x_4*x_5 + 0.041969340079907776*x_4*x_6 + 0.03889444296364367*x_4*x_7 + 0.04135102427612645*x_4*x_8 + 0.04278927599530985*x_4*x_9 + 0.05139049626932474*x_5^2 + 0.05635211362806137*x_5*x_6 + 0.04305478949143126*x_5*x_7 + 0.06250256022695315*x_5*x_8 + 0.05819360785349125*x_5*x_9 + 0.05114160144629229*x_6^2 + 0.044877534410753206*x_6*x_7 + 0.061365773801611984*x_6*x_8 + 0.060802656200052436*x_6*x_9 + 0.04179945331526411*x_7^2 + 0.05052662056088165*x_7*x_8 + 0.05102361249922681*x_7*x_9 + 0.07314558743125513*x_8^2 + 0.06495346294509018*x_8*x_9 + 0.04694280142779339*x_9^2 - 0.24102515644880987*x_0 - 0.1271387745902563*x_1 - 0.059140186184559684*x_2 - 0.2079676713952109*x_3 - 0.11488929971371271*x_4 - 0.14381101035475877*x_5 - 0.0182019482791197*x_6 + 0.01599691253054098*x_7 + 0.1328086010212285*x_8 - 0.11321675071673062*x_9 (10 variables, 1 constraints, 'Portfolio optimization')\n"
          ]
        }
      ]
    },
    {
      "cell_type": "code",
      "source": [
        "# Create and solve model\n",
        "po = PortfolioFormulation(mu, sigma, q, budget)\n",
        "model = po.build_model()\n",
        "print(model)"
      ],
      "metadata": {
        "colab": {
          "base_uri": "https://localhost:8080/"
        },
        "id": "zUq9yGuASWPF",
        "outputId": "1716d473-8fa5-4cdd-e344-e387a9e9087e"
      },
      "execution_count": 16,
      "outputs": [
        {
          "output_type": "stream",
          "name": "stdout",
          "text": [
            "minimize 0.046197579270526055*x_0^2 + 0.04507566779554689*x_0*x_1 + 0.05772786357349736*x_0*x_2 + 0.038544277625809246*x_0*x_3 + 0.04638285679809044*x_0*x_4 + 0.03518250110518967*x_0*x_5 + 0.04345082534386053*x_0*x_6 + 0.04064521188257017*x_0*x_7 + 0.040869139478660686*x_0*x_8 + 0.0470344821665212*x_0*x_9 + 0.0548948399034895*x_1^2 + 0.09331721755666364*x_1*x_2 + 0.05881849502849362*x_1*x_3 + 0.0448386684448789*x_1*x_4 + 0.06419550988572267*x_1*x_5 + 0.06415341080584544*x_1*x_6 + 0.05842313742037009*x_1*x_7 + 0.07002758643833*x_1*x_8 + 0.07254854508068653*x_1*x_9 + 0.09931582127775011*x_2^2 + 0.07194938697212624*x_2*x_3 + 0.04903668644286675*x_2*x_4 + 0.07751776656371925*x_2*x_5 + 0.07443718398173893*x_2*x_6 + 0.06763218661287905*x_2*x_7 + 0.09535676411318353*x_2*x_8 + 0.07918482337716014*x_2*x_9 + 0.04822134546667979*x_3^2 + 0.04138222932367523*x_3*x_4 + 0.058619057964304444*x_3*x_5 + 0.061844083668815095*x_3*x_6 + 0.04319639583887429*x_3*x_7 + 0.06173726772186551*x_3*x_8 + 0.060006745190412596*x_3*x_9 + 0.03591625409730081*x_4^2 + 0.03721957658686751*x_4*x_5 + 0.041969340079907776*x_4*x_6 + 0.03889444296364367*x_4*x_7 + 0.04135102427612645*x_4*x_8 + 0.04278927599530985*x_4*x_9 + 0.05139049626932474*x_5^2 + 0.05635211362806137*x_5*x_6 + 0.04305478949143126*x_5*x_7 + 0.06250256022695315*x_5*x_8 + 0.05819360785349125*x_5*x_9 + 0.05114160144629229*x_6^2 + 0.044877534410753206*x_6*x_7 + 0.061365773801611984*x_6*x_8 + 0.060802656200052436*x_6*x_9 + 0.04179945331526411*x_7^2 + 0.05052662056088165*x_7*x_8 + 0.05102361249922681*x_7*x_9 + 0.07314558743125513*x_8^2 + 0.06495346294509018*x_8*x_9 + 0.04694280142779339*x_9^2 - 0.24102515644880987*x_0 - 0.1271387745902563*x_1 - 0.059140186184559684*x_2 - 0.2079676713952109*x_3 - 0.11488929971371271*x_4 - 0.14381101035475877*x_5 - 0.0182019482791197*x_6 + 0.01599691253054098*x_7 + 0.1328086010212285*x_8 - 0.11321675071673062*x_9 (10 variables, 1 constraints, 'Portfolio Optimization')\n"
          ]
        }
      ]
    },
    {
      "cell_type": "code",
      "source": [],
      "metadata": {
        "id": "5r6g-JrkIqRf"
      },
      "execution_count": 16,
      "outputs": []
    },
    {
      "cell_type": "code",
      "source": [
        "###  this should be used in this case as it does supports the constraints and converts th quadraic program to qubo...\n",
        "\n",
        "from qiskit_optimization.converters import QuadraticProgramToQubo\n",
        "\n",
        "qp2qubo = QuadraticProgramToQubo()\n",
        "qubo_model= qp2qubo.convert(model)\n",
        "print(qubo_model.prettyprint())\n",
        "\n",
        "op_model, offset = qubo_model.to_ising()\n",
        "print(\"offfset is \", offset)\n",
        "op_model"
      ],
      "metadata": {
        "colab": {
          "base_uri": "https://localhost:8080/"
        },
        "id": "uzQY9pu6HoDc",
        "outputId": "e802d692-c1fe-43ee-858e-763724f68c78"
      },
      "execution_count": 17,
      "outputs": [
        {
          "output_type": "stream",
          "name": "stdout",
          "text": [
            "Problem name: Portfolio Optimization\n",
            "\n",
            "Minimize\n",
            "  5.2883720361328965*x_0^2 + 10.529424581520288*x_0*x_1\n",
            "  + 10.542076777298238*x_0*x_2 + 10.522893191350551*x_0*x_3\n",
            "  + 10.53073177052283*x_0*x_4 + 10.519531414829931*x_0*x_5\n",
            "  + 10.527799739068602*x_0*x_6 + 10.52499412560731*x_0*x_7\n",
            "  + 10.525218053203401*x_0*x_8 + 10.531383395891261*x_0*x_9\n",
            "  + 5.29706929676586*x_1^2 + 10.577666131281404*x_1*x_2\n",
            "  + 10.543167408753234*x_1*x_3 + 10.52918758216962*x_1*x_4\n",
            "  + 10.548544423610464*x_1*x_5 + 10.548502324530586*x_1*x_6\n",
            "  + 10.54277205114511*x_1*x_7 + 10.554376500163071*x_1*x_8\n",
            "  + 10.556897458805427*x_1*x_9 + 5.341490278140121*x_2^2\n",
            "  + 10.556298300696866*x_2*x_3 + 10.533385600167609*x_2*x_4\n",
            "  + 10.56186668028846*x_2*x_5 + 10.55878609770648*x_2*x_6\n",
            "  + 10.55198110033762*x_2*x_7 + 10.579705677837925*x_2*x_8\n",
            "  + 10.563533737101901*x_2*x_9 + 5.2903958023290505*x_3^2\n",
            "  + 10.525731143048416*x_3*x_4 + 10.542967971689045*x_3*x_5\n",
            "  + 10.546192997393556*x_3*x_6 + 10.527545309563616*x_3*x_7\n",
            "  + 10.546086181446608*x_3*x_8 + 10.544355658915155*x_3*x_9\n",
            "  + 5.278090710959671*x_4^2 + 10.521568490311608*x_4*x_5\n",
            "  + 10.52631825380465*x_4*x_6 + 10.523243356688385*x_4*x_7\n",
            "  + 10.525699938000868*x_4*x_8 + 10.527138189720052*x_4*x_9\n",
            "  + 5.293564953131695*x_5^2 + 10.540701027352803*x_5*x_6\n",
            "  + 10.527403703216173*x_5*x_7 + 10.546851473951694*x_5*x_8\n",
            "  + 10.542542521578232*x_5*x_9 + 5.293316058308663*x_6^2\n",
            "  + 10.529226448135494*x_6*x_7 + 10.545714687526353*x_6*x_8\n",
            "  + 10.545151569924794*x_6*x_9 + 5.283973910177634*x_7^2\n",
            "  + 10.534875534285622*x_7*x_8 + 10.535372526223968*x_7*x_9\n",
            "  + 5.3153200442936255*x_8^2 + 10.549302376669832*x_8*x_9\n",
            "  + 5.2891172582901635*x_9^2 - 52.662769725072515*x_0 - 52.548883343213966*x_1\n",
            "  - 52.480884754808265*x_2 - 52.62971224001892*x_3 - 52.53663386833742*x_4\n",
            "  - 52.56555557897847*x_5 - 52.43994651690283*x_6 - 52.40574765609317*x_7\n",
            "  - 52.28893596760248*x_8 - 52.53496131934044*x_9 + 131.05436142155926\n",
            "\n",
            "Subject to\n",
            "  No constraints\n",
            "\n",
            "  Binary variables (10)\n",
            "    x_0 x_1 x_2 x_3 x_4 x_5 x_6 x_7 x_8 x_9\n",
            "\n",
            "offfset is  13.571379481473471\n"
          ]
        },
        {
          "output_type": "execute_result",
          "data": {
            "text/plain": [
              "SparsePauliOp(['IIIIIIIIIZ', 'IIIIIIIIZI', 'IIIIIIIZII', 'IIIIIIZIII', 'IIIIIZIIII', 'IIIIZIIIII', 'IIIZIIIIII', 'IIZIIIIIII', 'IZIIIIIIII', 'ZIIIIIIIII', 'IIIIIIIIZZ', 'IIIIIIIZIZ', 'IIIIIIZIIZ', 'IIIIIZIIIZ', 'IIIIZIIIIZ', 'IIIZIIIIIZ', 'IIZIIIIIIZ', 'IZIIIIIIIZ', 'ZIIIIIIIIZ', 'IIIIIIIZZI', 'IIIIIIZIZI', 'IIIIIZIIZI', 'IIIIZIIIZI', 'IIIZIIIIZI', 'IIZIIIIIZI', 'IZIIIIIIZI', 'ZIIIIIIIZI', 'IIIIIIZZII', 'IIIIIZIZII', 'IIIIZIIZII', 'IIIZIIIZII', 'IIZIIIIZII', 'IZIIIIIZII', 'ZIIIIIIZII', 'IIIIIZZIII', 'IIIIZIZIII', 'IIIZIIZIII', 'IIZIIIZIII', 'IZIIIIZIII', 'ZIIIIIZIII', 'IIIIZZIIII', 'IIIZIZIIII', 'IIZIIZIIII', 'IZIIIZIIII', 'ZIIIIZIIII', 'IIIZZIIIII', 'IIZIZIIIII', 'IZIIZIIIII', 'ZIIIZIIIII', 'IIZZIIIIII', 'IZIZIIIIII', 'ZIIZIIIIII', 'IZZIIIIIII', 'ZIZIIIIIII', 'ZZIIIIIIII'],\n",
              "              coeffs=[-1.31441785e-03+0.j, -1.06727592e-01+0.j, -1.86627787e-01+0.j,\n",
              " -4.41513219e-02+0.j, -5.64795024e-02+0.j, -7.69991138e-02+0.j,\n",
              " -1.43783057e-01+0.j, -1.38466666e-01+0.j, -2.40149644e-01+0.j,\n",
              " -1.00997328e-01+0.j,  2.63235615e+00+0.j,  2.63551919e+00+0.j,\n",
              "  2.63072330e+00+0.j,  2.63268294e+00+0.j,  2.62988285e+00+0.j,\n",
              "  2.63194993e+00+0.j,  2.63124853e+00+0.j,  2.63130451e+00+0.j,\n",
              "  2.63284585e+00+0.j,  2.64441653e+00+0.j,  2.63579185e+00+0.j,\n",
              "  2.63229690e+00+0.j,  2.63713611e+00+0.j,  2.63712558e+00+0.j,\n",
              "  2.63569301e+00+0.j,  2.63859413e+00+0.j,  2.63922436e+00+0.j,\n",
              "  2.63907458e+00+0.j,  2.63334640e+00+0.j,  2.64046667e+00+0.j,\n",
              "  2.63969652e+00+0.j,  2.63799528e+00+0.j,  2.64492642e+00+0.j,\n",
              "  2.64088343e+00+0.j,  2.63143279e+00+0.j,  2.63574199e+00+0.j,\n",
              "  2.63654825e+00+0.j,  2.63188633e+00+0.j,  2.63652155e+00+0.j,\n",
              "  2.63608891e+00+0.j,  2.63039212e+00+0.j,  2.63157956e+00+0.j,\n",
              "  2.63081084e+00+0.j,  2.63142498e+00+0.j,  2.63178455e+00+0.j,\n",
              "  2.63517526e+00+0.j,  2.63185093e+00+0.j,  2.63671287e+00+0.j,\n",
              "  2.63563563e+00+0.j,  2.63230661e+00+0.j,  2.63642867e+00+0.j,\n",
              "  2.63628789e+00+0.j,  2.63371888e+00+0.j,  2.63384313e+00+0.j,\n",
              "  2.63732559e+00+0.j])"
            ]
          },
          "metadata": {},
          "execution_count": 17
        }
      ]
    },
    {
      "cell_type": "code",
      "source": [
        "op_model == op"
      ],
      "metadata": {
        "colab": {
          "base_uri": "https://localhost:8080/"
        },
        "id": "-xkXRQLPHvYj",
        "outputId": "3c4d6cd1-5451-4093-9648-ecbb425a4cce"
      },
      "execution_count": 18,
      "outputs": [
        {
          "output_type": "execute_result",
          "data": {
            "text/plain": [
              "True"
            ]
          },
          "metadata": {},
          "execution_count": 18
        }
      ]
    },
    {
      "cell_type": "code",
      "source": [],
      "metadata": {
        "id": "Xb8MMzhqI1Yg"
      },
      "execution_count": 18,
      "outputs": []
    }
  ]
}