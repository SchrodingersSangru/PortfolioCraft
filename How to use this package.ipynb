{
 "cells": [
  {
   "cell_type": "code",
   "execution_count": 11,
   "id": "319b7d1c",
   "metadata": {},
   "outputs": [],
   "source": [
    "import pandas as pd\n",
    "import numpy as np\n",
    "import os\n",
    "import yfinance as yf\n",
    "from Asset_Selection_Formulation import PortfolioFormulation"
   ]
  },
  {
   "cell_type": "code",
   "execution_count": null,
   "id": "557ffeb5",
   "metadata": {},
   "outputs": [],
   "source": []
  },
  {
   "cell_type": "code",
   "execution_count": 12,
   "id": "ecc0cfd8",
   "metadata": {},
   "outputs": [
    {
     "name": "stderr",
     "output_type": "stream",
     "text": [
      "[*********************100%***********************]  10 of 10 completed\n"
     ]
    }
   ],
   "source": [
    "# assets = [\"AAPL\", \"GS\", \"JPM\", \"MSFT\", \"MCD\", \"WMT\"]\n",
    "#DOW30 DATASET\n",
    "assets = ['AAPL','AXP','BA','CAT', 'CSCO','CVX','DD','DIS', 'GE','GS' ] #,'HD', 'IBM' ] #, 'INTC', 'JNJ', 'JPM','KO', 'MCD','MMM','MRK','MSFT','NKE','PFE', 'PG', 'T', 'TRV', 'UNH', 'V', 'VZ','WMT', 'XOM']\n",
    "len(assets)\n",
    "\n",
    "# Using data from yahoo finance\n",
    "# use the name listed for particular company that you wish to add\n",
    "\n",
    "start_date = \"2016-01-01\"\n",
    "end_date = \"2022-12-31\"\n",
    "\n",
    "stocks_data_csv= yf.download(assets, start = start_date, end = end_date)['Close']\n",
    "stocks_data_csv.to_csv(\"Stocks_data.csv\")"
   ]
  },
  {
   "cell_type": "code",
   "execution_count": 13,
   "id": "8def9a44",
   "metadata": {},
   "outputs": [],
   "source": [
    "read_stocks_data = pd.read_csv(\"Stocks_data.csv\", index_col=False)\n",
    "stocks_data = read_stocks_data.drop(['Date'], axis=1)"
   ]
  },
  {
   "cell_type": "code",
   "execution_count": 16,
   "id": "847c29bf",
   "metadata": {},
   "outputs": [
    {
     "name": "stdout",
     "output_type": "stream",
     "text": [
      "[ 0.24102516  0.12713878  0.05914017  0.20796772  0.11488937  0.14381102\n",
      "  0.01820193 -0.01599692 -0.13280863  0.11321666]\n",
      "[[0.09239517 0.04507571 0.05772787 0.03854436 0.04638292 0.03518255\n",
      "  0.04345081 0.04064521 0.04086918 0.0470345 ]\n",
      " [0.04507571 0.10978961 0.09331722 0.05881849 0.0448387  0.0641955\n",
      "  0.06415338 0.0584231  0.0700276  0.07254853]\n",
      " [0.05772787 0.09331722 0.19863165 0.07194943 0.04903667 0.07751778\n",
      "  0.07443715 0.06763218 0.09535677 0.07918485]\n",
      " [0.03854436 0.05881849 0.07194943 0.09644273 0.04138228 0.05861909\n",
      "  0.06184405 0.04319643 0.06173733 0.06000674]\n",
      " [0.04638292 0.0448387  0.04903667 0.04138228 0.07183262 0.03721961\n",
      "  0.04196935 0.03889443 0.04135106 0.04278929]\n",
      " [0.03518255 0.0641955  0.07751778 0.05861909 0.03721961 0.10278097\n",
      "  0.05635207 0.04305481 0.06250258 0.05819367]\n",
      " [0.04345081 0.06415338 0.07443715 0.06184405 0.04196935 0.05635207\n",
      "  0.10228318 0.04487752 0.0613657  0.06080266]\n",
      " [0.04064521 0.0584231  0.06763218 0.04319643 0.03889443 0.04305481\n",
      "  0.04487752 0.08359892 0.05052661 0.05102363]\n",
      " [0.04086918 0.0700276  0.09535677 0.06173733 0.04135106 0.06250258\n",
      "  0.0613657  0.05052661 0.14629124 0.0649535 ]\n",
      " [0.0470345  0.07254853 0.07918485 0.06000674 0.04278929 0.05819367\n",
      "  0.06080266 0.05102363 0.0649535  0.09388562]]\n"
     ]
    }
   ],
   "source": [
    "log_return = np.log(stocks_data/stocks_data.shift(1))\n",
    "\n",
    "trading_days = 252\n",
    "\n",
    "\n",
    "num_assets = len(assets)\n",
    "mu = log_return.mean()*trading_days\n",
    "sigma = log_return.cov()*trading_days\n",
    "sigma = np.array(sigma)\n",
    "mu = np.array(mu)\n",
    "print(mu)\n",
    "print(sigma)"
   ]
  },
  {
   "cell_type": "code",
   "execution_count": 17,
   "id": "279567f3",
   "metadata": {},
   "outputs": [],
   "source": [
    "q =0.5\n",
    "budget = num_assets//2 "
   ]
  },
  {
   "cell_type": "code",
   "execution_count": 18,
   "id": "070f8539",
   "metadata": {},
   "outputs": [
    {
     "name": "stdout",
     "output_type": "stream",
     "text": [
      "minimize 0.046197586416991156*x_0^2 + 0.04507570974050346*x_0*x_1 + 0.05772786790445597*x_0*x_2 + 0.03854435561279436*x_0*x_3 + 0.046382921675367436*x_0*x_4 + 0.03518255183740813*x_0*x_5 + 0.04345080739110639*x_0*x_6 + 0.04064521078042541*x_0*x_7 + 0.04086917525346765*x_0*x_8 + 0.04703449563206362*x_0*x_9 + 0.054894805389890035*x_1^2 + 0.09331721784573986*x_1*x_2 + 0.05881849368004178*x_1*x_3 + 0.044838697782626676*x_1*x_4 + 0.06419549696139597*x_1*x_5 + 0.06415337866955405*x_1*x_6 + 0.05842310359505693*x_1*x_7 + 0.0700275970084799*x_1*x_8 + 0.07254853007414759*x_1*x_9 + 0.09931582459728601*x_2^2 + 0.07194943078937575*x_2*x_3 + 0.049036670055552206*x_2*x_4 + 0.07751777785430203*x_2*x_5 + 0.0744371467136878*x_2*x_6 + 0.06763218413319326*x_2*x_7 + 0.09535676690383894*x_2*x_8 + 0.07918485001925216*x_2*x_9 + 0.048221364630433264*x_3^2 + 0.04138227895234771*x_3*x_4 + 0.058619087846322*x_3*x_5 + 0.06184404752509748*x_3*x_6 + 0.043196426694575824*x_3*x_7 + 0.06173732590758219*x_3*x_8 + 0.060006736938967555*x_3*x_9 + 0.03591630914493364*x_4^2 + 0.037219612517778*x_4*x_5 + 0.04196935387657196*x_4*x_6 + 0.038894434965320655*x_4*x_7 + 0.041351060937494445*x_4*x_8 + 0.04278929332689778*x_4*x_9 + 0.05139048728094259*x_5^2 + 0.05635206872794666*x_5*x_6 + 0.04305481237972123*x_5*x_7 + 0.06250257923985725*x_5*x_8 + 0.05819366762520865*x_5*x_9 + 0.051141588645409665*x_6^2 + 0.044877518823642305*x_6*x_7 + 0.0613657003654176*x_6*x_8 + 0.06080266214906783*x_6*x_9 + 0.04179946057880806*x_7^2 + 0.05052661447926012*x_7*x_8 + 0.05102363007057246*x_7*x_9 + 0.07314561754379097*x_8^2 + 0.06495350431702847*x_8*x_9 + 0.046942811320981354*x_9^2 - 0.24102516235116203*x_0 - 0.12713878446639237*x_1 - 0.059140168855576755*x_2 - 0.20796772169161196*x_3 - 0.11488936724247784*x_4 - 0.1438110188098908*x_5 - 0.018201929395903624*x_6 + 0.015996923906677663*x_7 + 0.13280863447240676*x_8 - 0.11321666272936308*x_9 (10 variables, 1 constraints, 'Portfolio Optimization')\n"
     ]
    }
   ],
   "source": [
    "# Create and solve model\n",
    "po = PortfolioFormulation(mu, sigma, q, budget)\n",
    "model = po.build_model()\n",
    "print(model)"
   ]
  },
  {
   "cell_type": "code",
   "execution_count": null,
   "id": "61c21cb1",
   "metadata": {},
   "outputs": [],
   "source": []
  }
 ],
 "metadata": {
  "kernelspec": {
   "display_name": "qiskit_env",
   "language": "python",
   "name": "python3"
  },
  "language_info": {
   "codemirror_mode": {
    "name": "ipython",
    "version": 3
   },
   "file_extension": ".py",
   "mimetype": "text/x-python",
   "name": "python",
   "nbconvert_exporter": "python",
   "pygments_lexer": "ipython3",
   "version": "3.10.16"
  }
 },
 "nbformat": 4,
 "nbformat_minor": 5
}
